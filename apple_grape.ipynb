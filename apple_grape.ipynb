{
 "cells": [
  {
   "cell_type": "code",
   "execution_count": null,
   "id": "d251a3a6-e6f5-4334-a876-715294cc8a59",
   "metadata": {},
   "outputs": [],
   "source": []
  },
  {
   "cell_type": "code",
   "execution_count": null,
   "id": "d9888d1a-6e02-47f5-92d3-7335991b92ce",
   "metadata": {},
   "outputs": [],
   "source": [
    "for fruit, _ in (fruits) :\n",
    "    "
   ]
  },
  {
   "cell_type": "code",
   "execution_count": 20,
   "id": "efbde56f-6e12-4101-8e56-5a3249f992c7",
   "metadata": {},
   "outputs": [],
   "source": [
    "\n",
    "fruits = ['사과', '포도', '자두', '수박']"
   ]
  },
  {
   "cell_type": "code",
   "execution_count": 12,
   "id": "c71e177e-3f94-4376-99ab-01d05c7ecf1c",
   "metadata": {},
   "outputs": [
    {
     "data": {
      "text/plain": [
       "{'사': '과', '포': '도', '자': '두', '수': '박', '다': '리'}"
      ]
     },
     "execution_count": 12,
     "metadata": {},
     "output_type": "execute_result"
    }
   ],
   "source": [
    "{fruits[i][0] : fruits[i][1] for i in range (len(fruits))}"
   ]
  },
  {
   "cell_type": "code",
   "execution_count": 21,
   "id": "8d0c139f-e333-43e5-bfc5-e90aab101f75",
   "metadata": {},
   "outputs": [],
   "source": [
    "fruits = ['사과아']"
   ]
  },
  {
   "cell_type": "code",
   "execution_count": 23,
   "id": "131524b7-4c76-493c-86c2-74ba4ff183d9",
   "metadata": {},
   "outputs": [
    {
     "ename": "SyntaxError",
     "evalue": "invalid syntax (2554577852.py, line 1)",
     "output_type": "error",
     "traceback": [
      "\u001b[1;36m  Input \u001b[1;32mIn [23]\u001b[1;36m\u001b[0m\n\u001b[1;33m    {fruit: _ , _ for fruit, _, _ in (fruits)}\u001b[0m\n\u001b[1;37m                  ^\u001b[0m\n\u001b[1;31mSyntaxError\u001b[0m\u001b[1;31m:\u001b[0m invalid syntax\n"
     ]
    }
   ],
   "source": [
    "{fruit: _ , _ for fruit, _, _ in (fruits)}"
   ]
  },
  {
   "cell_type": "code",
   "execution_count": null,
   "id": "2d6fed5b-ff51-472a-b500-45d3769366b0",
   "metadata": {},
   "outputs": [],
   "source": [
    "{사과 : _ , 포도 : _ , "
   ]
  },
  {
   "cell_type": "code",
   "execution_count": null,
   "id": "387ca0ec-c151-42c6-8e48-65012deca9e3",
   "metadata": {},
   "outputs": [],
   "source": []
  },
  {
   "cell_type": "code",
   "execution_count": 16,
   "id": "11fcd54f-6b69-4f90-8dcf-dccdcb674e54",
   "metadata": {},
   "outputs": [],
   "source": [
    "fruits = ['사과', '포도', '자두', '수박']"
   ]
  },
  {
   "cell_type": "code",
   "execution_count": 18,
   "id": "24a05ef5-4564-4670-8fc6-1792f687bb32",
   "metadata": {},
   "outputs": [
    {
     "data": {
      "text/plain": [
       "{'사': '과', '포': '도', '자': '두', '수': '박'}"
      ]
     },
     "execution_count": 18,
     "metadata": {},
     "output_type": "execute_result"
    }
   ],
   "source": [
    "{key :value for key,value in zip([j for i in fruits for j in i][::2],[j for i in fruits for j in i][1::2])}"
   ]
  },
  {
   "cell_type": "code",
   "execution_count": 19,
   "id": "c7ad6dca-370f-452d-bf2a-8922370ba2e4",
   "metadata": {},
   "outputs": [
    {
     "data": {
      "text/plain": [
       "['사과', '자두']"
      ]
     },
     "execution_count": 19,
     "metadata": {},
     "output_type": "execute_result"
    }
   ],
   "source": [
    "fruits[::2]"
   ]
  },
  {
   "cell_type": "code",
   "execution_count": null,
   "id": "a1701b3e-4565-44a3-ad37-77644a6438fa",
   "metadata": {},
   "outputs": [],
   "source": []
  }
 ],
 "metadata": {
  "kernelspec": {
   "display_name": "Python 3 (ipykernel)",
   "language": "python",
   "name": "python3"
  },
  "language_info": {
   "codemirror_mode": {
    "name": "ipython",
    "version": 3
   },
   "file_extension": ".py",
   "mimetype": "text/x-python",
   "name": "python",
   "nbconvert_exporter": "python",
   "pygments_lexer": "ipython3",
   "version": "3.9.12"
  }
 },
 "nbformat": 4,
 "nbformat_minor": 5
}
