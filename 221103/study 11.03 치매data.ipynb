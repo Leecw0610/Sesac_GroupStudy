{
 "cells": [
  {
   "cell_type": "markdown",
   "id": "a257d950-9ffa-408c-b533-1290c0ec40ae",
   "metadata": {},
   "source": [
    "# Q. 치매현황 문제 2개\n",
    "1. 행정구역(시도)별 과 행정구역(기초)별 합쳐 파생변수를 시도구별로 만드시오.(단, 이름이 정상적이지 않다면 변경하시오, ex) (전국전국 -> 전국 / 제주특별자치도서귀포시 -> 제주특별자치도 서귀포시)\n",
    "2. 사람의 수를 나타내는 칼럼에 소수점이 들어가있어 소수점을 없애어 나타내시오. ex) (노인인구수,중증 환자,...)"
   ]
  },
  {
   "cell_type": "code",
   "execution_count": 54,
   "id": "a8303bed-a6f4-4e09-8434-14670cb0680a",
   "metadata": {},
   "outputs": [],
   "source": [
    "import pandas as pd\n",
    "import numpy as np"
   ]
  },
  {
   "cell_type": "code",
   "execution_count": 55,
   "id": "7411f337-c371-4b96-8688-a30c77a51dda",
   "metadata": {},
   "outputs": [],
   "source": [
    "df = pd.read_csv('보건복지부_시군구별 치매현황_20220311.csv',encoding='euc-kr')"
   ]
  },
  {
   "cell_type": "code",
   "execution_count": 56,
   "id": "9d8e42fd-4da6-4805-b1c3-68fdd14bbb1e",
   "metadata": {
    "tags": []
   },
   "outputs": [
    {
     "data": {
      "text/html": [
       "<div>\n",
       "<style scoped>\n",
       "    .dataframe tbody tr th:only-of-type {\n",
       "        vertical-align: middle;\n",
       "    }\n",
       "\n",
       "    .dataframe tbody tr th {\n",
       "        vertical-align: top;\n",
       "    }\n",
       "\n",
       "    .dataframe thead th {\n",
       "        text-align: right;\n",
       "    }\n",
       "</style>\n",
       "<table border=\"1\" class=\"dataframe\">\n",
       "  <thead>\n",
       "    <tr style=\"text-align: right;\">\n",
       "      <th></th>\n",
       "      <th>시점</th>\n",
       "      <th>행정구역(시도)별</th>\n",
       "      <th>행정구역(기초)별</th>\n",
       "      <th>성별</th>\n",
       "      <th>연령별</th>\n",
       "      <th>노인인구수</th>\n",
       "      <th>치매환자수</th>\n",
       "      <th>치매환자유병률</th>\n",
       "      <th>최경도 환자</th>\n",
       "      <th>경도 환자</th>\n",
       "      <th>중등도 환자</th>\n",
       "      <th>중증 환자</th>\n",
       "      <th>알츠하이머 환자수</th>\n",
       "      <th>알츠하이머 환자유병률</th>\n",
       "      <th>혈관성치매 환자수</th>\n",
       "      <th>혈관성치매 환자유병률</th>\n",
       "      <th>기타 환자환자수</th>\n",
       "      <th>기타 환자유병률</th>\n",
       "      <th>경도인지장애 환자수</th>\n",
       "      <th>경도인지장애 환자유병률</th>\n",
       "    </tr>\n",
       "  </thead>\n",
       "  <tbody>\n",
       "    <tr>\n",
       "      <th>0</th>\n",
       "      <td>2020</td>\n",
       "      <td>전국</td>\n",
       "      <td>전국</td>\n",
       "      <td>전체</td>\n",
       "      <td>60~64세</td>\n",
       "      <td>3804709.5</td>\n",
       "      <td>23350.26</td>\n",
       "      <td>0.61</td>\n",
       "      <td>4062.95</td>\n",
       "      <td>9667.01</td>\n",
       "      <td>6001.02</td>\n",
       "      <td>3619.29</td>\n",
       "      <td>0.00</td>\n",
       "      <td>0.00</td>\n",
       "      <td>23350.26</td>\n",
       "      <td>0.61</td>\n",
       "      <td>0.00</td>\n",
       "      <td>0.00</td>\n",
       "      <td>568975.71</td>\n",
       "      <td>14.95</td>\n",
       "    </tr>\n",
       "    <tr>\n",
       "      <th>1</th>\n",
       "      <td>2020</td>\n",
       "      <td>전국</td>\n",
       "      <td>전국</td>\n",
       "      <td>전체</td>\n",
       "      <td>65~69세</td>\n",
       "      <td>2635592.0</td>\n",
       "      <td>36620.52</td>\n",
       "      <td>1.39</td>\n",
       "      <td>6371.97</td>\n",
       "      <td>15160.90</td>\n",
       "      <td>9411.47</td>\n",
       "      <td>5676.18</td>\n",
       "      <td>34204.14</td>\n",
       "      <td>1.30</td>\n",
       "      <td>0.00</td>\n",
       "      <td>0.00</td>\n",
       "      <td>2416.38</td>\n",
       "      <td>0.09</td>\n",
       "      <td>472079.05</td>\n",
       "      <td>17.91</td>\n",
       "    </tr>\n",
       "    <tr>\n",
       "      <th>2</th>\n",
       "      <td>2020</td>\n",
       "      <td>전국</td>\n",
       "      <td>전국</td>\n",
       "      <td>전체</td>\n",
       "      <td>70~74세</td>\n",
       "      <td>2000708.5</td>\n",
       "      <td>77236.58</td>\n",
       "      <td>3.86</td>\n",
       "      <td>13439.16</td>\n",
       "      <td>31975.94</td>\n",
       "      <td>19849.80</td>\n",
       "      <td>11971.67</td>\n",
       "      <td>74101.52</td>\n",
       "      <td>3.70</td>\n",
       "      <td>1868.56</td>\n",
       "      <td>0.09</td>\n",
       "      <td>1279.71</td>\n",
       "      <td>0.06</td>\n",
       "      <td>432263.10</td>\n",
       "      <td>21.61</td>\n",
       "    </tr>\n",
       "    <tr>\n",
       "      <th>3</th>\n",
       "      <td>2020</td>\n",
       "      <td>전국</td>\n",
       "      <td>전국</td>\n",
       "      <td>전체</td>\n",
       "      <td>75~79세</td>\n",
       "      <td>1602662.5</td>\n",
       "      <td>189626.57</td>\n",
       "      <td>11.83</td>\n",
       "      <td>32995.02</td>\n",
       "      <td>78505.40</td>\n",
       "      <td>48734.03</td>\n",
       "      <td>29392.12</td>\n",
       "      <td>79081.82</td>\n",
       "      <td>4.93</td>\n",
       "      <td>36835.05</td>\n",
       "      <td>2.30</td>\n",
       "      <td>73617.65</td>\n",
       "      <td>4.59</td>\n",
       "      <td>238681.35</td>\n",
       "      <td>14.89</td>\n",
       "    </tr>\n",
       "    <tr>\n",
       "      <th>4</th>\n",
       "      <td>2020</td>\n",
       "      <td>전국</td>\n",
       "      <td>전국</td>\n",
       "      <td>전체</td>\n",
       "      <td>80~84세</td>\n",
       "      <td>1110911.5</td>\n",
       "      <td>232892.50</td>\n",
       "      <td>20.96</td>\n",
       "      <td>40523.30</td>\n",
       "      <td>96417.50</td>\n",
       "      <td>59853.37</td>\n",
       "      <td>36098.34</td>\n",
       "      <td>182257.11</td>\n",
       "      <td>16.41</td>\n",
       "      <td>8518.04</td>\n",
       "      <td>0.77</td>\n",
       "      <td>42047.60</td>\n",
       "      <td>3.78</td>\n",
       "      <td>530714.37</td>\n",
       "      <td>47.77</td>\n",
       "    </tr>\n",
       "    <tr>\n",
       "      <th>...</th>\n",
       "      <td>...</td>\n",
       "      <td>...</td>\n",
       "      <td>...</td>\n",
       "      <td>...</td>\n",
       "      <td>...</td>\n",
       "      <td>...</td>\n",
       "      <td>...</td>\n",
       "      <td>...</td>\n",
       "      <td>...</td>\n",
       "      <td>...</td>\n",
       "      <td>...</td>\n",
       "      <td>...</td>\n",
       "      <td>...</td>\n",
       "      <td>...</td>\n",
       "      <td>...</td>\n",
       "      <td>...</td>\n",
       "      <td>...</td>\n",
       "      <td>...</td>\n",
       "      <td>...</td>\n",
       "      <td>...</td>\n",
       "    </tr>\n",
       "    <tr>\n",
       "      <th>13735</th>\n",
       "      <td>2021</td>\n",
       "      <td>제주특별자치도</td>\n",
       "      <td>서귀포시</td>\n",
       "      <td>여</td>\n",
       "      <td>75~79세</td>\n",
       "      <td>3873.0</td>\n",
       "      <td>532.92</td>\n",
       "      <td>13.76</td>\n",
       "      <td>92.73</td>\n",
       "      <td>220.63</td>\n",
       "      <td>136.96</td>\n",
       "      <td>82.60</td>\n",
       "      <td>247.48</td>\n",
       "      <td>6.39</td>\n",
       "      <td>32.15</td>\n",
       "      <td>0.83</td>\n",
       "      <td>252.91</td>\n",
       "      <td>6.53</td>\n",
       "      <td>807.83</td>\n",
       "      <td>20.86</td>\n",
       "    </tr>\n",
       "    <tr>\n",
       "      <th>13736</th>\n",
       "      <td>2021</td>\n",
       "      <td>제주특별자치도</td>\n",
       "      <td>서귀포시</td>\n",
       "      <td>여</td>\n",
       "      <td>80~84세</td>\n",
       "      <td>3345.0</td>\n",
       "      <td>778.05</td>\n",
       "      <td>23.26</td>\n",
       "      <td>135.38</td>\n",
       "      <td>322.11</td>\n",
       "      <td>199.96</td>\n",
       "      <td>120.60</td>\n",
       "      <td>704.12</td>\n",
       "      <td>21.05</td>\n",
       "      <td>11.71</td>\n",
       "      <td>0.35</td>\n",
       "      <td>61.88</td>\n",
       "      <td>1.85</td>\n",
       "      <td>1540.65</td>\n",
       "      <td>46.06</td>\n",
       "    </tr>\n",
       "    <tr>\n",
       "      <th>13737</th>\n",
       "      <td>2021</td>\n",
       "      <td>제주특별자치도</td>\n",
       "      <td>서귀포시</td>\n",
       "      <td>여</td>\n",
       "      <td>85세이상</td>\n",
       "      <td>3439.5</td>\n",
       "      <td>1134.00</td>\n",
       "      <td>32.97</td>\n",
       "      <td>197.32</td>\n",
       "      <td>469.48</td>\n",
       "      <td>291.44</td>\n",
       "      <td>175.77</td>\n",
       "      <td>973.03</td>\n",
       "      <td>28.29</td>\n",
       "      <td>78.42</td>\n",
       "      <td>2.28</td>\n",
       "      <td>82.20</td>\n",
       "      <td>2.39</td>\n",
       "      <td>799.73</td>\n",
       "      <td>23.25</td>\n",
       "    </tr>\n",
       "    <tr>\n",
       "      <th>13738</th>\n",
       "      <td>2021</td>\n",
       "      <td>제주특별자치도</td>\n",
       "      <td>서귀포시</td>\n",
       "      <td>여</td>\n",
       "      <td>60세이상</td>\n",
       "      <td>27760.0</td>\n",
       "      <td>2645.05</td>\n",
       "      <td>9.53</td>\n",
       "      <td>460.24</td>\n",
       "      <td>1095.05</td>\n",
       "      <td>679.78</td>\n",
       "      <td>409.98</td>\n",
       "      <td>2111.89</td>\n",
       "      <td>7.61</td>\n",
       "      <td>130.23</td>\n",
       "      <td>0.47</td>\n",
       "      <td>402.31</td>\n",
       "      <td>1.45</td>\n",
       "      <td>5688.87</td>\n",
       "      <td>20.49</td>\n",
       "    </tr>\n",
       "    <tr>\n",
       "      <th>13739</th>\n",
       "      <td>2021</td>\n",
       "      <td>제주특별자치도</td>\n",
       "      <td>서귀포시</td>\n",
       "      <td>여</td>\n",
       "      <td>65세이상</td>\n",
       "      <td>20525.5</td>\n",
       "      <td>2637.09</td>\n",
       "      <td>12.85</td>\n",
       "      <td>458.85</td>\n",
       "      <td>1091.76</td>\n",
       "      <td>677.73</td>\n",
       "      <td>408.75</td>\n",
       "      <td>2111.89</td>\n",
       "      <td>10.29</td>\n",
       "      <td>122.27</td>\n",
       "      <td>0.60</td>\n",
       "      <td>402.31</td>\n",
       "      <td>1.96</td>\n",
       "      <td>5371.43</td>\n",
       "      <td>26.17</td>\n",
       "    </tr>\n",
       "  </tbody>\n",
       "</table>\n",
       "<p>13740 rows × 20 columns</p>\n",
       "</div>"
      ],
      "text/plain": [
       "         시점 행정구역(시도)별 행정구역(기초)별  성별     연령별      노인인구수      치매환자수  치매환자유병률  \\\n",
       "0      2020        전국        전국  전체  60~64세  3804709.5   23350.26     0.61   \n",
       "1      2020        전국        전국  전체  65~69세  2635592.0   36620.52     1.39   \n",
       "2      2020        전국        전국  전체  70~74세  2000708.5   77236.58     3.86   \n",
       "3      2020        전국        전국  전체  75~79세  1602662.5  189626.57    11.83   \n",
       "4      2020        전국        전국  전체  80~84세  1110911.5  232892.50    20.96   \n",
       "...     ...       ...       ...  ..     ...        ...        ...      ...   \n",
       "13735  2021   제주특별자치도      서귀포시   여  75~79세     3873.0     532.92    13.76   \n",
       "13736  2021   제주특별자치도      서귀포시   여  80~84세     3345.0     778.05    23.26   \n",
       "13737  2021   제주특별자치도      서귀포시   여   85세이상     3439.5    1134.00    32.97   \n",
       "13738  2021   제주특별자치도      서귀포시   여   60세이상    27760.0    2645.05     9.53   \n",
       "13739  2021   제주특별자치도      서귀포시   여   65세이상    20525.5    2637.09    12.85   \n",
       "\n",
       "         최경도 환자     경도 환자    중등도 환자     중증 환자  알츠하이머 환자수  알츠하이머 환자유병률  \\\n",
       "0       4062.95   9667.01   6001.02   3619.29       0.00         0.00   \n",
       "1       6371.97  15160.90   9411.47   5676.18   34204.14         1.30   \n",
       "2      13439.16  31975.94  19849.80  11971.67   74101.52         3.70   \n",
       "3      32995.02  78505.40  48734.03  29392.12   79081.82         4.93   \n",
       "4      40523.30  96417.50  59853.37  36098.34  182257.11        16.41   \n",
       "...         ...       ...       ...       ...        ...          ...   \n",
       "13735     92.73    220.63    136.96     82.60     247.48         6.39   \n",
       "13736    135.38    322.11    199.96    120.60     704.12        21.05   \n",
       "13737    197.32    469.48    291.44    175.77     973.03        28.29   \n",
       "13738    460.24   1095.05    679.78    409.98    2111.89         7.61   \n",
       "13739    458.85   1091.76    677.73    408.75    2111.89        10.29   \n",
       "\n",
       "       혈관성치매 환자수  혈관성치매 환자유병률  기타 환자환자수  기타 환자유병률  경도인지장애 환자수  경도인지장애 환자유병률  \n",
       "0       23350.26         0.61      0.00      0.00   568975.71         14.95  \n",
       "1           0.00         0.00   2416.38      0.09   472079.05         17.91  \n",
       "2        1868.56         0.09   1279.71      0.06   432263.10         21.61  \n",
       "3       36835.05         2.30  73617.65      4.59   238681.35         14.89  \n",
       "4        8518.04         0.77  42047.60      3.78   530714.37         47.77  \n",
       "...          ...          ...       ...       ...         ...           ...  \n",
       "13735      32.15         0.83    252.91      6.53      807.83         20.86  \n",
       "13736      11.71         0.35     61.88      1.85     1540.65         46.06  \n",
       "13737      78.42         2.28     82.20      2.39      799.73         23.25  \n",
       "13738     130.23         0.47    402.31      1.45     5688.87         20.49  \n",
       "13739     122.27         0.60    402.31      1.96     5371.43         26.17  \n",
       "\n",
       "[13740 rows x 20 columns]"
      ]
     },
     "execution_count": 56,
     "metadata": {},
     "output_type": "execute_result"
    }
   ],
   "source": [
    "df"
   ]
  },
  {
   "cell_type": "markdown",
   "id": "7a19e035-06e9-4112-bdd7-950c83c8bf2a",
   "metadata": {},
   "source": [
    "## Q1 문제 풀이"
   ]
  },
  {
   "cell_type": "code",
   "execution_count": 30,
   "id": "e567f7c1-87f0-4a72-b834-4f6f2e2bdd23",
   "metadata": {},
   "outputs": [],
   "source": [
    "df['시도구별'] = np.where(df['행정구역(시도)별'] == df[\"행정구역(기초)별\"], df[\"행정구역(시도)별\"], df[\"행정구역(시도)별\"]+\" \"+df['행정구역(기초)별'])"
   ]
  },
  {
   "cell_type": "code",
   "execution_count": 27,
   "id": "e2dc0ed0-18c7-407d-aecf-1b94985bde11",
   "metadata": {
    "collapsed": true,
    "jupyter": {
     "outputs_hidden": true
    },
    "tags": []
   },
   "outputs": [
    {
     "data": {
      "text/plain": [
       "0                  전국\n",
       "1                  전국\n",
       "2                  전국\n",
       "3                  전국\n",
       "4                  전국\n",
       "             ...     \n",
       "13735    제주특별자치도 서귀포시\n",
       "13736    제주특별자치도 서귀포시\n",
       "13737    제주특별자치도 서귀포시\n",
       "13738    제주특별자치도 서귀포시\n",
       "13739    제주특별자치도 서귀포시\n",
       "Name: 시도구별, Length: 13740, dtype: object"
      ]
     },
     "execution_count": 27,
     "metadata": {},
     "output_type": "execute_result"
    }
   ],
   "source": [
    "df['시도구별']"
   ]
  },
  {
   "cell_type": "code",
   "execution_count": null,
   "id": "69f8a1ca-82cf-4a79-9410-7324eed3264d",
   "metadata": {},
   "outputs": [],
   "source": [
    "df.columns"
   ]
  },
  {
   "cell_type": "markdown",
   "id": "421349e8-2e5e-4ba6-911e-cf72733b5bfd",
   "metadata": {},
   "source": [
    "## Q2 첫날 풀이 (feat.주환)"
   ]
  },
  {
   "cell_type": "code",
   "execution_count": 28,
   "id": "182a8334-a9e6-49d5-a7f9-df6c40a0f39e",
   "metadata": {
    "tags": []
   },
   "outputs": [
    {
     "name": "stdout",
     "output_type": "stream",
     "text": [
      "시점 int64\n",
      "행정구역(시도)별 object\n",
      "행정구역(기초)별 object\n",
      "성별 object\n",
      "연령별 object\n",
      "노인인구수 float64\n",
      "치매환자수 float64\n",
      "치매환자유병률 float64\n",
      "최경도 환자 float64\n",
      "경도 환자 float64\n",
      "중등도 환자 float64\n",
      "중증 환자 float64\n",
      "알츠하이머 환자수 float64\n",
      "알츠하이머 환자유병률 float64\n",
      "혈관성치매 환자수 float64\n",
      "혈관성치매 환자유병률 float64\n",
      "기타 환자환자수 float64\n",
      "기타 환자유병률 float64\n",
      "경도인지장애 환자수 float64\n",
      "경도인지장애 환자유병률 float64\n",
      "시도구별 object\n"
     ]
    }
   ],
   "source": [
    "change_type = {} \n",
    "for col,dt in zip(df.columns,df.dtypes) :\n",
    "    #print(col,dt)\n",
    "    if col[-1] != \"률\" and dt == \"float64\":\n",
    "        change_type[col] = \"int64\"\n",
    "        df = df.astype(change_type)"
   ]
  },
  {
   "cell_type": "code",
   "execution_count": 45,
   "id": "2aa7860f-517a-4bdb-9fb4-9244059f2a8e",
   "metadata": {
    "tags": []
   },
   "outputs": [
    {
     "data": {
      "text/plain": [
       "dtype('int64')"
      ]
     },
     "execution_count": 45,
     "metadata": {},
     "output_type": "execute_result"
    }
   ],
   "source": [
    "df.dtypes[0]"
   ]
  },
  {
   "cell_type": "markdown",
   "id": "2125fccc-dd49-4107-b511-1921e0ff957a",
   "metadata": {},
   "source": [
    "## 2번문제 3줄 for문(강사님)"
   ]
  },
  {
   "cell_type": "code",
   "execution_count": null,
   "id": "f4d319ef-d036-427a-871d-7088c8ae2aa7",
   "metadata": {},
   "outputs": [],
   "source": [
    "list(zip(df.columns, df.dtypes)) # list로 zip(a,b) 튜플형식으로 묶은 걸 보여줌"
   ]
  },
  {
   "cell_type": "code",
   "execution_count": null,
   "id": "1792c31f-874d-4ac5-8c63-ed5055655088",
   "metadata": {},
   "outputs": [],
   "source": [
    "df.dtypes == 'float64'  c[-1] == '자'"
   ]
  },
  {
   "cell_type": "code",
   "execution_count": 48,
   "id": "e9004e2a-beb8-41e0-b18e-89ed53525d3e",
   "metadata": {},
   "outputs": [
    {
     "data": {
      "text/plain": [
       "21"
      ]
     },
     "execution_count": 48,
     "metadata": {},
     "output_type": "execute_result"
    }
   ],
   "source": [
    "len(df.dtypes)"
   ]
  },
  {
   "cell_type": "code",
   "execution_count": 49,
   "id": "a1e5a2d6-1da6-431f-a1f0-4437aacc23a9",
   "metadata": {},
   "outputs": [
    {
     "name": "stdout",
     "output_type": "stream",
     "text": [
      "0\n",
      "1\n",
      "2\n",
      "3\n",
      "4\n",
      "5\n",
      "6\n",
      "7\n",
      "8\n",
      "9\n",
      "10\n",
      "11\n",
      "12\n",
      "13\n",
      "14\n",
      "15\n",
      "16\n",
      "17\n",
      "18\n",
      "19\n",
      "20\n"
     ]
    }
   ],
   "source": []
  },
  {
   "cell_type": "code",
   "execution_count": 58,
   "id": "752fe702-7590-4acc-9470-084ce250f4ba",
   "metadata": {},
   "outputs": [
    {
     "name": "stdout",
     "output_type": "stream",
     "text": [
      "0\n",
      "1\n",
      "2\n",
      "3\n",
      "4\n",
      "5\n",
      "6\n",
      "7\n",
      "8\n",
      "9\n",
      "10\n",
      "11\n",
      "12\n",
      "13\n",
      "14\n",
      "15\n",
      "16\n",
      "17\n",
      "18\n"
     ]
    },
    {
     "ename": "AttributeError",
     "evalue": "'str' object has no attribute 'columns'",
     "output_type": "error",
     "traceback": [
      "\u001b[1;31m---------------------------------------------------------------------------\u001b[0m",
      "\u001b[1;31mAttributeError\u001b[0m                            Traceback (most recent call last)",
      "Input \u001b[1;32mIn [59]\u001b[0m, in \u001b[0;36m<cell line: 3>\u001b[1;34m()\u001b[0m\n\u001b[0;32m      3\u001b[0m \u001b[38;5;28;01mfor\u001b[39;00m c \u001b[38;5;129;01min\u001b[39;00m df\u001b[38;5;241m.\u001b[39mcolumns :\n\u001b[0;32m      4\u001b[0m     \u001b[38;5;28;01mif\u001b[39;00m (c[\u001b[38;5;241m-\u001b[39m\u001b[38;5;241m1\u001b[39m] \u001b[38;5;241m!=\u001b[39m \u001b[38;5;124m'\u001b[39m\u001b[38;5;124m률\u001b[39m\u001b[38;5;124m'\u001b[39m) \u001b[38;5;241m&\u001b[39m (df\u001b[38;5;241m.\u001b[39mdtypes[i\u001b[38;5;241m+\u001b[39m\u001b[38;5;241m1\u001b[39m] \u001b[38;5;241m==\u001b[39m \u001b[38;5;124m'\u001b[39m\u001b[38;5;124mfloat64\u001b[39m\u001b[38;5;124m'\u001b[39m) : \n\u001b[1;32m----> 5\u001b[0m         df \u001b[38;5;241m=\u001b[39m df\u001b[38;5;241m.\u001b[39mcolumns \u001b[38;5;241m=\u001b[39m \u001b[38;5;124m'\u001b[39m\u001b[38;5;124mint32\u001b[39m\u001b[38;5;124m'\u001b[39m\n",
      "\u001b[1;31mAttributeError\u001b[0m: 'str' object has no attribute 'columns'"
     ]
    }
   ],
   "source": [
    "for i in range(19):\n",
    "    print(i)\n",
    "for c in df.columns :\n",
    "    if (c[-1] != '률') & (df.dtypes[i+1] == 'float64') : \n",
    "        df = df.columns.astype(int)"
   ]
  },
  {
   "cell_type": "code",
   "execution_count": 53,
   "id": "75e6fc79-4c6d-4333-995f-2f59457efacd",
   "metadata": {},
   "outputs": [
    {
     "data": {
      "text/plain": [
       "시점                int64\n",
       "행정구역(시도)별        object\n",
       "행정구역(기초)별        object\n",
       "성별               object\n",
       "연령별              object\n",
       "노인인구수             int64\n",
       "치매환자수             int64\n",
       "치매환자유병률         float64\n",
       "최경도 환자            int64\n",
       "경도 환자             int64\n",
       "중등도 환자            int64\n",
       "중증 환자             int64\n",
       "알츠하이머 환자수         int64\n",
       "알츠하이머 환자유병률     float64\n",
       "혈관성치매 환자수         int64\n",
       "혈관성치매 환자유병률     float64\n",
       "기타 환자환자수          int64\n",
       "기타 환자유병률        float64\n",
       "경도인지장애 환자수        int64\n",
       "경도인지장애 환자유병률    float64\n",
       "시도구별             object\n",
       "dtype: object"
      ]
     },
     "execution_count": 53,
     "metadata": {},
     "output_type": "execute_result"
    }
   ],
   "source": [
    "df.dtypes"
   ]
  },
  {
   "cell_type": "code",
   "execution_count": null,
   "id": "4b72eec0-5c4c-4948-97b5-cc9983b5535a",
   "metadata": {
    "tags": []
   },
   "outputs": [],
   "source": [
    "for column, dtype in zip(df.columns, df.dtypes) : # zip으로 하지 않으면 \n",
    "    if (column[-1] != '률') & (dtype == 'float64') :\n",
    "        df[column] = df[column].astype(int)"
   ]
  },
  {
   "cell_type": "code",
   "execution_count": null,
   "id": "5287efb9-df12-488d-957e-494be2570192",
   "metadata": {
    "tags": []
   },
   "outputs": [],
   "source": [
    "df.dtypes"
   ]
  },
  {
   "cell_type": "markdown",
   "id": "7fc98857-3d0a-4bf5-9b89-4ab7259a2f9e",
   "metadata": {},
   "source": [
    "- 다른 방법"
   ]
  },
  {
   "cell_type": "code",
   "execution_count": null,
   "id": "b9969eb0-17a9-4bec-b5d9-9fd50b2c8002",
   "metadata": {
    "tags": []
   },
   "outputs": [],
   "source": [
    "int_columns = []\n",
    "for column, dtype in zip(df.columns, df.dtypes) :\n",
    "    if ('률' not in column) & (dtype ==  'float64')  :\n",
    "        int_columns.append(column)"
   ]
  },
  {
   "cell_type": "code",
   "execution_count": null,
   "id": "3406335a-9fd1-4ded-a64e-77e74087cac0",
   "metadata": {
    "tags": []
   },
   "outputs": [],
   "source": [
    "for column in int_columns :\n",
    "    df[column] = df[column].astype(int)"
   ]
  },
  {
   "cell_type": "markdown",
   "id": "41222dc8-be38-41ac-9246-bc9ce6a0a778",
   "metadata": {},
   "source": [
    "## 함수변환"
   ]
  },
  {
   "cell_type": "code",
   "execution_count": 16,
   "id": "c1e35848-bb34-48e6-861d-a28eaa9fa2d9",
   "metadata": {},
   "outputs": [],
   "source": [
    "df2 = df[['시점', '경도 환자']]"
   ]
  },
  {
   "cell_type": "code",
   "execution_count": 17,
   "id": "41e74eec-2df6-4491-9156-e9a51dbd38a7",
   "metadata": {},
   "outputs": [
    {
     "data": {
      "text/plain": [
       "pandas.core.frame.DataFrame"
      ]
     },
     "execution_count": 17,
     "metadata": {},
     "output_type": "execute_result"
    }
   ],
   "source": [
    "type(df2)"
   ]
  },
  {
   "cell_type": "code",
   "execution_count": 19,
   "id": "2359aba3-cccd-4665-ae32-e58e100ca24c",
   "metadata": {},
   "outputs": [],
   "source": [
    "\n",
    "def type_ch (df):\n",
    "    for column, dtype in zip(df.columns, df.dtypes) :\n",
    "        if (column[-1] != '률') & (dtype == 'float64') :\n",
    "            df[column] = df[column].astype(int)\n",
    "    return df"
   ]
  },
  {
   "cell_type": "code",
   "execution_count": 18,
   "id": "933ef8e1-d3af-4f70-9177-bae0dc7543e5",
   "metadata": {},
   "outputs": [
    {
     "data": {
      "text/plain": [
       "시점       int64\n",
       "경도 환자    int32\n",
       "dtype: object"
      ]
     },
     "execution_count": 18,
     "metadata": {},
     "output_type": "execute_result"
    }
   ],
   "source": [
    "type_ch(df2).dtypes"
   ]
  },
  {
   "cell_type": "code",
   "execution_count": 4,
   "id": "eb273995-8556-4cb1-b98a-cb313f7c0803",
   "metadata": {},
   "outputs": [
    {
     "data": {
      "text/plain": [
       "시점                int64\n",
       "행정구역(시도)별        object\n",
       "행정구역(기초)별        object\n",
       "성별               object\n",
       "연령별              object\n",
       "노인인구수           float64\n",
       "치매환자수           float64\n",
       "치매환자유병률         float64\n",
       "최경도 환자          float64\n",
       "경도 환자           float64\n",
       "중등도 환자          float64\n",
       "중증 환자           float64\n",
       "알츠하이머 환자수       float64\n",
       "알츠하이머 환자유병률     float64\n",
       "혈관성치매 환자수       float64\n",
       "혈관성치매 환자유병률     float64\n",
       "기타 환자환자수        float64\n",
       "기타 환자유병률        float64\n",
       "경도인지장애 환자수      float64\n",
       "경도인지장애 환자유병률    float64\n",
       "dtype: object"
      ]
     },
     "execution_count": 4,
     "metadata": {},
     "output_type": "execute_result"
    }
   ],
   "source": [
    "df.dtypes"
   ]
  },
  {
   "cell_type": "code",
   "execution_count": null,
   "id": "41b00722-dddd-4bd7-8114-4bcb481f7a66",
   "metadata": {},
   "outputs": [],
   "source": []
  }
 ],
 "metadata": {
  "kernelspec": {
   "display_name": "Python 3 (ipykernel)",
   "language": "python",
   "name": "python3"
  },
  "language_info": {
   "codemirror_mode": {
    "name": "ipython",
    "version": 3
   },
   "file_extension": ".py",
   "mimetype": "text/x-python",
   "name": "python",
   "nbconvert_exporter": "python",
   "pygments_lexer": "ipython3",
   "version": "3.9.12"
  }
 },
 "nbformat": 4,
 "nbformat_minor": 5
}
