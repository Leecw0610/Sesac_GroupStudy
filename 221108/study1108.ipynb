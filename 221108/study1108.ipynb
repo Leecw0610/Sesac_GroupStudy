{
 "cells": [
  {
   "cell_type": "code",
   "execution_count": 223,
   "id": "d0797461-9e35-40a9-8e0a-56942c13dd57",
   "metadata": {},
   "outputs": [],
   "source": [
    "import pandas as pd\n",
    "import numpy as np\n",
    "from sklearn.model_selection import train_test_split #train test 나눠서 사용하겠다.\n",
    "from sklearn.linear_model import LinearRegression # ~ 모델을 가져옴\n",
    "from sklearn.metrics import mean_absolute_error # 정확도를 측정한 값 / 0에 가까울수록 정확도가 높음.\n",
    "from sklearn.ensemble import GradientBoostingRegressor"
   ]
  },
  {
   "cell_type": "code",
   "execution_count": 224,
   "id": "b3cb7d24-893a-4286-8f9f-abd436f73cb0",
   "metadata": {},
   "outputs": [
    {
     "name": "stdout",
     "output_type": "stream",
     "text": [
      "C:\\Users\\user\\Desktop\\Python\\221108\n"
     ]
    }
   ],
   "source": [
    "cd C:\\Users\\user\\Desktop\\Python\\221108"
   ]
  },
  {
   "cell_type": "code",
   "execution_count": 225,
   "id": "fdc909ff-36f5-4a1c-9f55-edda631d1578",
   "metadata": {},
   "outputs": [],
   "source": [
    "data = pd.read_csv('insurance.csv')"
   ]
  },
  {
   "cell_type": "code",
   "execution_count": 226,
   "id": "752d8586-68b6-4254-bd8f-b9f65ca263c4",
   "metadata": {},
   "outputs": [],
   "source": [
    "data = data[data['bmi'] < 45]"
   ]
  },
  {
   "cell_type": "code",
   "execution_count": 227,
   "id": "0e15da21-5a21-49a4-8313-2895ae9989d8",
   "metadata": {},
   "outputs": [],
   "source": [
    "data['sex'] = np.where((data['sex'] == 'female'), 1 ,0)"
   ]
  },
  {
   "cell_type": "code",
   "execution_count": 228,
   "id": "43f0019a-df29-4a8e-b8e8-595d9d1b577f",
   "metadata": {},
   "outputs": [],
   "source": [
    "data['smoker'] = np.where((data['smoker'] == 'yes'), 1 , 0)"
   ]
  },
  {
   "cell_type": "code",
   "execution_count": 229,
   "id": "978473b8-89b3-4674-9bf7-0881a40eb156",
   "metadata": {},
   "outputs": [
    {
     "data": {
      "text/plain": [
       "array(['southwest', 'southeast', 'northwest', 'northeast'], dtype=object)"
      ]
     },
     "execution_count": 229,
     "metadata": {},
     "output_type": "execute_result"
    }
   ],
   "source": [
    "data['region'].unique()"
   ]
  },
  {
   "cell_type": "code",
   "execution_count": 230,
   "id": "6c3fb514-818e-4edb-a597-dd38de42cc3c",
   "metadata": {},
   "outputs": [],
   "source": [
    "region = {'southwest' : 0,\"southeast\" :1 ,'northwest': 2,'northeast':3}\n",
    "data['region'] = data['region'].map(region)"
   ]
  },
  {
   "cell_type": "code",
   "execution_count": 231,
   "id": "93a06e43-82e9-43ea-971c-75d01695af6c",
   "metadata": {},
   "outputs": [
    {
     "data": {
      "text/html": [
       "<div>\n",
       "<style scoped>\n",
       "    .dataframe tbody tr th:only-of-type {\n",
       "        vertical-align: middle;\n",
       "    }\n",
       "\n",
       "    .dataframe tbody tr th {\n",
       "        vertical-align: top;\n",
       "    }\n",
       "\n",
       "    .dataframe thead th {\n",
       "        text-align: right;\n",
       "    }\n",
       "</style>\n",
       "<table border=\"1\" class=\"dataframe\">\n",
       "  <thead>\n",
       "    <tr style=\"text-align: right;\">\n",
       "      <th></th>\n",
       "      <th>age</th>\n",
       "      <th>sex</th>\n",
       "      <th>bmi</th>\n",
       "      <th>children</th>\n",
       "      <th>smoker</th>\n",
       "      <th>region</th>\n",
       "      <th>charges</th>\n",
       "    </tr>\n",
       "  </thead>\n",
       "  <tbody>\n",
       "    <tr>\n",
       "      <th>0</th>\n",
       "      <td>19</td>\n",
       "      <td>1</td>\n",
       "      <td>27.900</td>\n",
       "      <td>0</td>\n",
       "      <td>1</td>\n",
       "      <td>0</td>\n",
       "      <td>16884.92400</td>\n",
       "    </tr>\n",
       "    <tr>\n",
       "      <th>1</th>\n",
       "      <td>18</td>\n",
       "      <td>0</td>\n",
       "      <td>33.770</td>\n",
       "      <td>1</td>\n",
       "      <td>0</td>\n",
       "      <td>1</td>\n",
       "      <td>1725.55230</td>\n",
       "    </tr>\n",
       "    <tr>\n",
       "      <th>2</th>\n",
       "      <td>28</td>\n",
       "      <td>0</td>\n",
       "      <td>33.000</td>\n",
       "      <td>3</td>\n",
       "      <td>0</td>\n",
       "      <td>1</td>\n",
       "      <td>4449.46200</td>\n",
       "    </tr>\n",
       "    <tr>\n",
       "      <th>3</th>\n",
       "      <td>33</td>\n",
       "      <td>0</td>\n",
       "      <td>22.705</td>\n",
       "      <td>0</td>\n",
       "      <td>0</td>\n",
       "      <td>2</td>\n",
       "      <td>21984.47061</td>\n",
       "    </tr>\n",
       "    <tr>\n",
       "      <th>4</th>\n",
       "      <td>32</td>\n",
       "      <td>0</td>\n",
       "      <td>28.880</td>\n",
       "      <td>0</td>\n",
       "      <td>0</td>\n",
       "      <td>2</td>\n",
       "      <td>3866.85520</td>\n",
       "    </tr>\n",
       "    <tr>\n",
       "      <th>...</th>\n",
       "      <td>...</td>\n",
       "      <td>...</td>\n",
       "      <td>...</td>\n",
       "      <td>...</td>\n",
       "      <td>...</td>\n",
       "      <td>...</td>\n",
       "      <td>...</td>\n",
       "    </tr>\n",
       "    <tr>\n",
       "      <th>1333</th>\n",
       "      <td>50</td>\n",
       "      <td>0</td>\n",
       "      <td>30.970</td>\n",
       "      <td>3</td>\n",
       "      <td>0</td>\n",
       "      <td>2</td>\n",
       "      <td>10600.54830</td>\n",
       "    </tr>\n",
       "    <tr>\n",
       "      <th>1334</th>\n",
       "      <td>18</td>\n",
       "      <td>1</td>\n",
       "      <td>31.920</td>\n",
       "      <td>0</td>\n",
       "      <td>0</td>\n",
       "      <td>3</td>\n",
       "      <td>2205.98080</td>\n",
       "    </tr>\n",
       "    <tr>\n",
       "      <th>1335</th>\n",
       "      <td>18</td>\n",
       "      <td>1</td>\n",
       "      <td>36.850</td>\n",
       "      <td>0</td>\n",
       "      <td>0</td>\n",
       "      <td>1</td>\n",
       "      <td>1629.83350</td>\n",
       "    </tr>\n",
       "    <tr>\n",
       "      <th>1336</th>\n",
       "      <td>21</td>\n",
       "      <td>1</td>\n",
       "      <td>25.800</td>\n",
       "      <td>0</td>\n",
       "      <td>0</td>\n",
       "      <td>0</td>\n",
       "      <td>2007.94500</td>\n",
       "    </tr>\n",
       "    <tr>\n",
       "      <th>1337</th>\n",
       "      <td>61</td>\n",
       "      <td>1</td>\n",
       "      <td>29.070</td>\n",
       "      <td>0</td>\n",
       "      <td>1</td>\n",
       "      <td>2</td>\n",
       "      <td>29141.36030</td>\n",
       "    </tr>\n",
       "  </tbody>\n",
       "</table>\n",
       "<p>1318 rows × 7 columns</p>\n",
       "</div>"
      ],
      "text/plain": [
       "      age  sex     bmi  children  smoker  region      charges\n",
       "0      19    1  27.900         0       1       0  16884.92400\n",
       "1      18    0  33.770         1       0       1   1725.55230\n",
       "2      28    0  33.000         3       0       1   4449.46200\n",
       "3      33    0  22.705         0       0       2  21984.47061\n",
       "4      32    0  28.880         0       0       2   3866.85520\n",
       "...   ...  ...     ...       ...     ...     ...          ...\n",
       "1333   50    0  30.970         3       0       2  10600.54830\n",
       "1334   18    1  31.920         0       0       3   2205.98080\n",
       "1335   18    1  36.850         0       0       1   1629.83350\n",
       "1336   21    1  25.800         0       0       0   2007.94500\n",
       "1337   61    1  29.070         0       1       2  29141.36030\n",
       "\n",
       "[1318 rows x 7 columns]"
      ]
     },
     "execution_count": 231,
     "metadata": {},
     "output_type": "execute_result"
    }
   ],
   "source": [
    "data"
   ]
  },
  {
   "cell_type": "code",
   "execution_count": 232,
   "id": "16afb960-8cd8-4d8e-ae66-a6595dfe0caa",
   "metadata": {},
   "outputs": [],
   "source": [
    "x= data.drop('charges',axis=1)"
   ]
  },
  {
   "cell_type": "code",
   "execution_count": 233,
   "id": "da407b96-7c63-4d0e-b3cb-e56ec0363ee9",
   "metadata": {},
   "outputs": [],
   "source": [
    "y = data['charges']"
   ]
  },
  {
   "cell_type": "code",
   "execution_count": 234,
   "id": "bc3b1744-0971-4186-8ba2-7f521f47c8b2",
   "metadata": {},
   "outputs": [
    {
     "data": {
      "text/html": [
       "<div>\n",
       "<style scoped>\n",
       "    .dataframe tbody tr th:only-of-type {\n",
       "        vertical-align: middle;\n",
       "    }\n",
       "\n",
       "    .dataframe tbody tr th {\n",
       "        vertical-align: top;\n",
       "    }\n",
       "\n",
       "    .dataframe thead th {\n",
       "        text-align: right;\n",
       "    }\n",
       "</style>\n",
       "<table border=\"1\" class=\"dataframe\">\n",
       "  <thead>\n",
       "    <tr style=\"text-align: right;\">\n",
       "      <th></th>\n",
       "      <th>age</th>\n",
       "      <th>sex</th>\n",
       "      <th>bmi</th>\n",
       "      <th>children</th>\n",
       "      <th>smoker</th>\n",
       "      <th>region</th>\n",
       "      <th>charges</th>\n",
       "    </tr>\n",
       "  </thead>\n",
       "  <tbody>\n",
       "    <tr>\n",
       "      <th>age</th>\n",
       "      <td>1.000000</td>\n",
       "      <td>0.013915</td>\n",
       "      <td>0.118204</td>\n",
       "      <td>0.042339</td>\n",
       "      <td>-0.023240</td>\n",
       "      <td>-0.002674</td>\n",
       "      <td>0.304823</td>\n",
       "    </tr>\n",
       "    <tr>\n",
       "      <th>sex</th>\n",
       "      <td>0.013915</td>\n",
       "      <td>1.000000</td>\n",
       "      <td>-0.039558</td>\n",
       "      <td>-0.018328</td>\n",
       "      <td>-0.080873</td>\n",
       "      <td>0.002686</td>\n",
       "      <td>-0.066275</td>\n",
       "    </tr>\n",
       "    <tr>\n",
       "      <th>bmi</th>\n",
       "      <td>0.118204</td>\n",
       "      <td>-0.039558</td>\n",
       "      <td>1.000000</td>\n",
       "      <td>0.002356</td>\n",
       "      <td>-0.001546</td>\n",
       "      <td>-0.147134</td>\n",
       "      <td>0.198887</td>\n",
       "    </tr>\n",
       "    <tr>\n",
       "      <th>children</th>\n",
       "      <td>0.042339</td>\n",
       "      <td>-0.018328</td>\n",
       "      <td>0.002356</td>\n",
       "      <td>1.000000</td>\n",
       "      <td>0.010806</td>\n",
       "      <td>-0.014262</td>\n",
       "      <td>0.073087</td>\n",
       "    </tr>\n",
       "    <tr>\n",
       "      <th>smoker</th>\n",
       "      <td>-0.023240</td>\n",
       "      <td>-0.080873</td>\n",
       "      <td>-0.001546</td>\n",
       "      <td>0.010806</td>\n",
       "      <td>1.000000</td>\n",
       "      <td>0.004315</td>\n",
       "      <td>0.784321</td>\n",
       "    </tr>\n",
       "    <tr>\n",
       "      <th>region</th>\n",
       "      <td>-0.002674</td>\n",
       "      <td>0.002686</td>\n",
       "      <td>-0.147134</td>\n",
       "      <td>-0.014262</td>\n",
       "      <td>0.004315</td>\n",
       "      <td>1.000000</td>\n",
       "      <td>0.010430</td>\n",
       "    </tr>\n",
       "    <tr>\n",
       "      <th>charges</th>\n",
       "      <td>0.304823</td>\n",
       "      <td>-0.066275</td>\n",
       "      <td>0.198887</td>\n",
       "      <td>0.073087</td>\n",
       "      <td>0.784321</td>\n",
       "      <td>0.010430</td>\n",
       "      <td>1.000000</td>\n",
       "    </tr>\n",
       "  </tbody>\n",
       "</table>\n",
       "</div>"
      ],
      "text/plain": [
       "               age       sex       bmi  children    smoker    region   charges\n",
       "age       1.000000  0.013915  0.118204  0.042339 -0.023240 -0.002674  0.304823\n",
       "sex       0.013915  1.000000 -0.039558 -0.018328 -0.080873  0.002686 -0.066275\n",
       "bmi       0.118204 -0.039558  1.000000  0.002356 -0.001546 -0.147134  0.198887\n",
       "children  0.042339 -0.018328  0.002356  1.000000  0.010806 -0.014262  0.073087\n",
       "smoker   -0.023240 -0.080873 -0.001546  0.010806  1.000000  0.004315  0.784321\n",
       "region   -0.002674  0.002686 -0.147134 -0.014262  0.004315  1.000000  0.010430\n",
       "charges   0.304823 -0.066275  0.198887  0.073087  0.784321  0.010430  1.000000"
      ]
     },
     "execution_count": 234,
     "metadata": {},
     "output_type": "execute_result"
    }
   ],
   "source": [
    "data.corr()"
   ]
  },
  {
   "cell_type": "code",
   "execution_count": null,
   "id": "eeb6f04b-7f42-49eb-9ae9-2a2057f208de",
   "metadata": {},
   "outputs": [],
   "source": []
  },
  {
   "cell_type": "code",
   "execution_count": 235,
   "id": "2a4c2cea-a18e-4b02-a046-e09195fcac41",
   "metadata": {},
   "outputs": [],
   "source": [
    "x_train, x_test, y_train, y_test = train_test_split(x,y,test_size=0.2,random_state=0)\n",
    "\n",
    "# x_train = 0.8% 훈련 y_train = 훈련시 나오는 보험료값 x_test -> 훈련시킬 나머지 값들 y_test-> 나머지값 훈련시켰을때 의 보험료값"
   ]
  },
  {
   "cell_type": "code",
   "execution_count": 236,
   "id": "27109ba9-fa2c-45fa-afca-93bfe08763af",
   "metadata": {},
   "outputs": [
    {
     "data": {
      "text/plain": [
       "age           int64\n",
       "sex           int32\n",
       "bmi         float64\n",
       "children      int64\n",
       "smoker        int32\n",
       "region        int64\n",
       "charges     float64\n",
       "dtype: object"
      ]
     },
     "execution_count": 236,
     "metadata": {},
     "output_type": "execute_result"
    }
   ],
   "source": [
    "data.dtypes"
   ]
  },
  {
   "cell_type": "code",
   "execution_count": 237,
   "id": "8de78c2d-c287-41d4-906d-e9b6f6a69a48",
   "metadata": {},
   "outputs": [],
   "source": [
    "model = LinearRegression() "
   ]
  },
  {
   "cell_type": "code",
   "execution_count": 238,
   "id": "810b4994-94f8-4f0c-80f1-aead3b1469d1",
   "metadata": {},
   "outputs": [
    {
     "data": {
      "text/plain": [
       "LinearRegression()"
      ]
     },
     "execution_count": 238,
     "metadata": {},
     "output_type": "execute_result"
    }
   ],
   "source": [
    "model.fit(x_train, y_train) #학습"
   ]
  },
  {
   "cell_type": "code",
   "execution_count": 239,
   "id": "40f539a7-f3bf-4479-9012-54c1cda6164b",
   "metadata": {},
   "outputs": [],
   "source": [
    "pre_train = model.predict(x_train) #학습한 x_train를 예측"
   ]
  },
  {
   "cell_type": "code",
   "execution_count": 240,
   "id": "aec2f85e-7db1-4e0f-958e-e342d08f1eae",
   "metadata": {},
   "outputs": [
    {
     "data": {
      "text/plain": [
       "4073.262697720111"
      ]
     },
     "execution_count": 240,
     "metadata": {},
     "output_type": "execute_result"
    }
   ],
   "source": [
    "mean_absolute_error(pre_train, y_train) #오차들의 합."
   ]
  },
  {
   "cell_type": "code",
   "execution_count": 241,
   "id": "2c3fce46-935d-49e1-86b8-ca75903de24e",
   "metadata": {},
   "outputs": [
    {
     "data": {
      "text/plain": [
       "0.7486195411801144"
      ]
     },
     "execution_count": 241,
     "metadata": {},
     "output_type": "execute_result"
    }
   ],
   "source": [
    "model.score(x_train, y_train) # 1에 가까울수록 정확하다."
   ]
  },
  {
   "cell_type": "code",
   "execution_count": 242,
   "id": "cebe6360-2099-45ec-9580-11c3ec857271",
   "metadata": {},
   "outputs": [
    {
     "data": {
      "text/plain": [
       "LinearRegression()"
      ]
     },
     "execution_count": 242,
     "metadata": {},
     "output_type": "execute_result"
    }
   ],
   "source": [
    "model.fit(x_test, y_test)"
   ]
  },
  {
   "cell_type": "code",
   "execution_count": 243,
   "id": "71487815-a3a1-4366-a7c5-c96de8f59174",
   "metadata": {},
   "outputs": [],
   "source": [
    "pre_test = model.predict(x_test)"
   ]
  },
  {
   "cell_type": "code",
   "execution_count": null,
   "id": "16557ff8-f945-4056-94ef-aaaf224840e5",
   "metadata": {},
   "outputs": [],
   "source": [
    "mean_absolute_error(pre_test, y_test)"
   ]
  },
  {
   "cell_type": "code",
   "execution_count": 244,
   "id": "dc374e37-8708-447f-875d-91c7d378155c",
   "metadata": {},
   "outputs": [
    {
     "data": {
      "text/plain": [
       "0.7597267791546254"
      ]
     },
     "execution_count": 244,
     "metadata": {},
     "output_type": "execute_result"
    }
   ],
   "source": [
    "model.score(x_test, y_test)"
   ]
  },
  {
   "cell_type": "code",
   "execution_count": 245,
   "id": "c2c9247f-1fb6-498c-bfac-c4a0dd037f64",
   "metadata": {},
   "outputs": [],
   "source": [
    "model2 = GradientBoostingRegressor()"
   ]
  },
  {
   "cell_type": "code",
   "execution_count": 246,
   "id": "298e5c01-bc78-4f7b-b693-401798aa6904",
   "metadata": {},
   "outputs": [
    {
     "data": {
      "text/plain": [
       "GradientBoostingRegressor()"
      ]
     },
     "execution_count": 246,
     "metadata": {},
     "output_type": "execute_result"
    }
   ],
   "source": [
    "model2.fit(x_train, y_train)"
   ]
  },
  {
   "cell_type": "code",
   "execution_count": 247,
   "id": "16c37605-9246-4a81-a83b-7616e61a2961",
   "metadata": {},
   "outputs": [],
   "source": [
    "pre_train = model2.predict(x_train)"
   ]
  },
  {
   "cell_type": "code",
   "execution_count": 248,
   "id": "a8fa8031-0d45-4762-b352-33c5da08a058",
   "metadata": {},
   "outputs": [
    {
     "data": {
      "text/plain": [
       "1983.7404639618223"
      ]
     },
     "execution_count": 248,
     "metadata": {},
     "output_type": "execute_result"
    }
   ],
   "source": [
    "mean_absolute_error(pre_train, y_train)"
   ]
  },
  {
   "cell_type": "code",
   "execution_count": 249,
   "id": "cdadb838-f2a6-4358-bb81-c1260444f547",
   "metadata": {},
   "outputs": [
    {
     "data": {
      "text/plain": [
       "0.9034470454623518"
      ]
     },
     "execution_count": 249,
     "metadata": {},
     "output_type": "execute_result"
    }
   ],
   "source": [
    "model2.score(x_train, y_train)"
   ]
  },
  {
   "cell_type": "code",
   "execution_count": 250,
   "id": "f097f1ae-0529-460b-a921-cdeb4f5bf3ad",
   "metadata": {},
   "outputs": [],
   "source": [
    "pre_test = model2.predict(x_test)"
   ]
  },
  {
   "cell_type": "code",
   "execution_count": 251,
   "id": "d69bd2f3-c1c9-4d96-b68a-6b09bd7b3a88",
   "metadata": {},
   "outputs": [
    {
     "data": {
      "text/plain": [
       "2562.733678856578"
      ]
     },
     "execution_count": 251,
     "metadata": {},
     "output_type": "execute_result"
    }
   ],
   "source": [
    "mean_absolute_error(pre_test, y_test)"
   ]
  },
  {
   "cell_type": "code",
   "execution_count": 252,
   "id": "d8e93a79-3bf8-46cf-94a0-777c94632798",
   "metadata": {},
   "outputs": [
    {
     "data": {
      "text/plain": [
       "0.8629696175713407"
      ]
     },
     "execution_count": 252,
     "metadata": {},
     "output_type": "execute_result"
    }
   ],
   "source": [
    "model2.score(x_test, y_test)"
   ]
  },
  {
   "cell_type": "code",
   "execution_count": null,
   "id": "59bc9416-8171-4c8e-b355-92c00925a93d",
   "metadata": {},
   "outputs": [],
   "source": []
  },
  {
   "cell_type": "code",
   "execution_count": null,
   "id": "cec8fa66-1488-49ee-9c3f-c6a84074c50e",
   "metadata": {},
   "outputs": [],
   "source": []
  }
 ],
 "metadata": {
  "kernelspec": {
   "display_name": "Python 3 (ipykernel)",
   "language": "python",
   "name": "python3"
  },
  "language_info": {
   "codemirror_mode": {
    "name": "ipython",
    "version": 3
   },
   "file_extension": ".py",
   "mimetype": "text/x-python",
   "name": "python",
   "nbconvert_exporter": "python",
   "pygments_lexer": "ipython3",
   "version": "3.9.12"
  }
 },
 "nbformat": 4,
 "nbformat_minor": 5
}
