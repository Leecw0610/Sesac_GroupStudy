{
 "cells": [
  {
   "cell_type": "markdown",
   "id": "b062c1c8-11c3-4351-b7b7-22910cf47973",
   "metadata": {},
   "source": [
    "## 제어문\n",
    "### 1.If문(홀수짝수)\n",
    "\n",
    "### 2.For문(1~100까지 합 구하기, 홀수의 합/짝수의합, 별찍기, 구구단)\n",
    "\n",
    "### 3.While문()\n"
   ]
  },
  {
   "cell_type": "markdown",
   "id": "6320e310-5c53-4c2c-a14b-8a7a2651106c",
   "metadata": {},
   "source": [
    "1. IF문\n",
    "if 조건문:\n",
    "    수행할 문장1\n",
    "    수행할 문장2\n",
    "    수행할 문장3\n",
    "(0)    \n",
    "   \n",
    "if 조건문:\n",
    "    수행할 문장1\n",
    " 수행할 문장2\n",
    "    수행할 문장3\n",
    "(x)\n",
    "(들여쓰기 조심할 것)\n"
   ]
  },
  {
   "cell_type": "markdown",
   "id": "20bfaccc-aa90-4df7-8a3f-fdcdaad54a51",
   "metadata": {},
   "source": [
    "# if문 기본 형태\n",
    "if 조건문:\n",
    "    수행할 문장\n",
    "else if 조건문:\n",
    "    수행할 문장\n",
    "else :\n",
    "    수행할 문장"
   ]
  },
  {
   "cell_type": "code",
   "execution_count": null,
   "id": "44ab3232-f500-4765-91d2-72360aff8dd4",
   "metadata": {},
   "outputs": [],
   "source": [
    "if True :\n",
    "    print('참')"
   ]
  },
  {
   "cell_type": "code",
   "execution_count": null,
   "id": "6582b77f-ac01-4e71-9aa1-0252735a36b6",
   "metadata": {},
   "outputs": [],
   "source": [
    "if False :\n",
    "    print('거짓')"
   ]
  },
  {
   "cell_type": "code",
   "execution_count": null,
   "id": "c13e3e13-a854-4b5b-952f-e868a31234db",
   "metadata": {},
   "outputs": [],
   "source": [
    "if 0 :\n",
    "    print('거짓') #0이면 False"
   ]
  },
  {
   "cell_type": "code",
   "execution_count": null,
   "id": "4439feda-fa83-4666-ab18-5dac2fb79a3d",
   "metadata": {},
   "outputs": [],
   "source": [
    "if 0 :\n",
    "    print('거짓')\n",
    "    \n",
    "print('끝')"
   ]
  },
  {
   "cell_type": "code",
   "execution_count": null,
   "id": "eea29460-4158-4db1-98f3-8cb43f07f57c",
   "metadata": {},
   "outputs": [],
   "source": [
    "if '':\n",
    "    print('test') # 공백은 False!!!"
   ]
  },
  {
   "cell_type": "code",
   "execution_count": null,
   "id": "3e5686e0-6989-4cff-8de4-693413c1676f",
   "metadata": {},
   "outputs": [],
   "source": [
    "#올바른 형태\n",
    "money = True\n",
    "if money :\n",
    "    print(\"택시를 타고 가라\")\n",
    "    print(\"aa\")\n",
    "else :\n",
    "    print(\"걸어 가라\")"
   ]
  },
  {
   "cell_type": "code",
   "execution_count": null,
   "id": "96805e27-f8d3-4f7b-891f-2dc06dd528c6",
   "metadata": {},
   "outputs": [],
   "source": [
    "#잘못된 형태\n",
    "money = True\n",
    "if money :\n",
    "    print(\"택시를 타고 가라\")\n",
    "print(\"aa\")\n",
    "else :\n",
    "    print(\"걸어 가라\")"
   ]
  },
  {
   "cell_type": "code",
   "execution_count": null,
   "id": "4dcc6247-fb36-42f0-a94c-362e82f47d8d",
   "metadata": {},
   "outputs": [],
   "source": [
    "#비교연산자\n",
    "x > y #x는 y보다 크다.\n",
    "x < y #x는 y보다 작다.\n",
    "x == y #x는 y와 같다.\n",
    "x != y #x와 y가 같지 않다.\n",
    "x >= y #x는 y와 같거나 크다.\n",
    "x <= y #x는 y와 같거나 작다."
   ]
  },
  {
   "cell_type": "code",
   "execution_count": null,
   "id": "2bde940b-e5e7-4356-b9b0-c338e65e6e11",
   "metadata": {},
   "outputs": [],
   "source": [
    "#비교연산자 예시\n",
    "a = 1\n",
    "b = 2\n",
    "if a <= b :\n",
    "    print(\"택시를 타고 가라\")\n",
    "else :\n",
    "    print(\"걸어 가라\")"
   ]
  },
  {
   "cell_type": "code",
   "execution_count": null,
   "id": "002a81fb-ba66-4be7-b77b-43dedd5ecf59",
   "metadata": {},
   "outputs": [],
   "source": [
    "'a' < 'b'"
   ]
  },
  {
   "cell_type": "code",
   "execution_count": null,
   "id": "a25b5500-3c8c-43b8-8053-b29c11903605",
   "metadata": {},
   "outputs": [],
   "source": [
    "'apple' <= 'banna'"
   ]
  },
  {
   "cell_type": "code",
   "execution_count": null,
   "id": "ac8a8bec-f21f-42cc-a3e9-d45a3fdd3e0b",
   "metadata": {},
   "outputs": [],
   "source": [
    "1 == '1'"
   ]
  },
  {
   "cell_type": "code",
   "execution_count": null,
   "id": "ea365b40-b292-4105-a676-c2b2dd31ce79",
   "metadata": {},
   "outputs": [],
   "source": [
    "1 == int('1')"
   ]
  },
  {
   "cell_type": "code",
   "execution_count": null,
   "id": "311683e8-7976-491d-900a-aa040cb42f14",
   "metadata": {},
   "outputs": [],
   "source": [
    "# and, or, not"
   ]
  },
  {
   "cell_type": "code",
   "execution_count": null,
   "id": "b24bc767-7b4e-4971-ad85-507ed4c100de",
   "metadata": {},
   "outputs": [],
   "source": [
    "(3 > 1) and (4 > 2)"
   ]
  },
  {
   "cell_type": "code",
   "execution_count": null,
   "id": "a164261c-a5d5-4182-8961-293c8bc785e4",
   "metadata": {},
   "outputs": [],
   "source": [
    "(3 > 1) or (4 > 2)"
   ]
  },
  {
   "cell_type": "code",
   "execution_count": null,
   "id": "5ed19a9e-1bec-41f0-a5d5-a5380c46431b",
   "metadata": {},
   "outputs": [],
   "source": [
    "not (3 > 1), not 0, not'A'"
   ]
  },
  {
   "cell_type": "code",
   "execution_count": null,
   "id": "ce7192cc-2fb8-4772-bc8d-87da13dcdeee",
   "metadata": {},
   "outputs": [],
   "source": [
    "# in, not in"
   ]
  },
  {
   "cell_type": "code",
   "execution_count": null,
   "id": "1fb1e6a4-9c09-49fa-9ccb-58c9a9f7ea0c",
   "metadata": {},
   "outputs": [],
   "source": [
    "l = [1, 2, 3]"
   ]
  },
  {
   "cell_type": "code",
   "execution_count": null,
   "id": "f891bfa7-90ea-403a-884f-980667548a5a",
   "metadata": {},
   "outputs": [],
   "source": [
    "3 in l"
   ]
  },
  {
   "cell_type": "code",
   "execution_count": null,
   "id": "c7910c80-d7ae-4b27-83d1-a57a2a90764c",
   "metadata": {},
   "outputs": [],
   "source": [
    "4 in l"
   ]
  },
  {
   "cell_type": "code",
   "execution_count": null,
   "id": "df1aadc1-3081-40a7-8e33-e35e2b88fd3d",
   "metadata": {},
   "outputs": [],
   "source": [
    "'a' in 'apple'"
   ]
  },
  {
   "cell_type": "code",
   "execution_count": null,
   "id": "5c957429-2ba4-4b42-8c6a-b02c650d0ed0",
   "metadata": {},
   "outputs": [],
   "source": [
    "'z' in 'apple'"
   ]
  },
  {
   "cell_type": "code",
   "execution_count": null,
   "id": "1a666546-4534-4e0a-bcf7-d8a1e963395f",
   "metadata": {},
   "outputs": [],
   "source": [
    "'a' in ['apple', 'banana']"
   ]
  },
  {
   "cell_type": "code",
   "execution_count": null,
   "id": "f8148298-7fe8-4048-b83c-040a1785d0e2",
   "metadata": {},
   "outputs": [],
   "source": [
    "'a' not in 'apple' "
   ]
  },
  {
   "cell_type": "code",
   "execution_count": null,
   "id": "9cf8c875-4b8e-4e01-8264-b646447906c2",
   "metadata": {},
   "outputs": [],
   "source": []
  },
  {
   "cell_type": "markdown",
   "id": "fa0632bc-2dce-45ab-990e-1b2878d727ba",
   "metadata": {
    "jp-MarkdownHeadingCollapsed": true,
    "tags": []
   },
   "source": [
    "2. For문\n",
    "\n",
    "for 조건 :\n",
    "    수행할 문장"
   ]
  },
  {
   "cell_type": "code",
   "execution_count": null,
   "id": "e62e1cbe-50e7-4d46-9c6f-52156c05b564",
   "metadata": {
    "tags": []
   },
   "outputs": [],
   "source": [
    "list(range(1, 10))"
   ]
  },
  {
   "cell_type": "code",
   "execution_count": null,
   "id": "1f3afb1d-c3b9-4d38-96c4-338327d53b77",
   "metadata": {},
   "outputs": [],
   "source": [
    "list(range(3, 10, 2))"
   ]
  },
  {
   "cell_type": "markdown",
   "id": "06b803c0-2810-4356-8213-af9e5b9c5d29",
   "metadata": {},
   "source": [
    "list(range(1, 11, 2))"
   ]
  },
  {
   "cell_type": "markdown",
   "id": "563d2c08-1833-44b5-9a8f-19102315d028",
   "metadata": {},
   "source": [
    "1, 3, 5, 7, 9"
   ]
  },
  {
   "cell_type": "markdown",
   "id": "aaba3c04-3320-42ca-8074-af4680b3c183",
   "metadata": {},
   "source": [
    "a = [1, 2, 3, 4, 5, 6, 7, 8, 9, 10]"
   ]
  },
  {
   "cell_type": "markdown",
   "id": "96678ab9-de38-440f-bfae-b230c5e4d064",
   "metadata": {},
   "source": [
    "a[0:10:2]"
   ]
  },
  {
   "cell_type": "code",
   "execution_count": null,
   "id": "6d020297-d51f-43dc-ad0c-28747f0bd312",
   "metadata": {},
   "outputs": [],
   "source": [
    "for i in [0, 1, 2, 3] :\n",
    "    print(i)"
   ]
  },
  {
   "cell_type": "code",
   "execution_count": null,
   "id": "798d220b-166a-44b4-a112-ce1e59a56e69",
   "metadata": {},
   "outputs": [],
   "source": [
    "for i in range(4) :\n",
    "    print(i)"
   ]
  },
  {
   "cell_type": "code",
   "execution_count": null,
   "id": "83b35325-c9f6-4c81-a4a4-e4f9d8ab6cfe",
   "metadata": {},
   "outputs": [],
   "source": [
    "for i in (0, 1, 2, 3) :\n",
    "    print(i)"
   ]
  },
  {
   "cell_type": "code",
   "execution_count": null,
   "id": "c02f6fc5-2a10-4b07-80f6-52879163c862",
   "metadata": {},
   "outputs": [],
   "source": [
    "for i in range(5) :\n",
    "    print(\"count\", i, \"입니다.\")"
   ]
  },
  {
   "cell_type": "code",
   "execution_count": null,
   "id": "4c71e9af-ced7-4165-884a-e2f22ce7b95f",
   "metadata": {
    "tags": []
   },
   "outputs": [],
   "source": [
    "# 1~100까지 합 구하기\n",
    "sum = 0\n",
    "for i in range(1,101):\n",
    "    sum += i             #sum = sum + i\n",
    "print(sum)"
   ]
  },
  {
   "cell_type": "code",
   "execution_count": null,
   "id": "0c6dcbde-ecd0-481e-838c-6e9c45bb1552",
   "metadata": {},
   "outputs": [],
   "source": []
  },
  {
   "cell_type": "markdown",
   "id": "55639e36-4c9e-49d3-a8c3-6f58fded59ea",
   "metadata": {},
   "source": [
    "3. Whlie문"
   ]
  },
  {
   "cell_type": "code",
   "execution_count": null,
   "id": "cf91b958-7ce0-41d6-9a83-4385c617880a",
   "metadata": {},
   "outputs": [],
   "source": [
    "while 조건문 :\n",
    "    행동"
   ]
  },
  {
   "cell_type": "code",
   "execution_count": null,
   "id": "21406cc6-0831-4e14-b670-36c5418d69f1",
   "metadata": {},
   "outputs": [],
   "source": [
    "count = 0\n",
    "while count < 5 :\n",
    "    print(\"count\", count, \"입니다.\")\n",
    "    count += 1 # count = count + 1"
   ]
  },
  {
   "cell_type": "markdown",
   "id": "b03d6ad9-cd58-44c6-b39f-a25ef4f4e04b",
   "metadata": {},
   "source": [
    "for i in range(5) :\n",
    "    print(\"count\", i, \"입니다.\")"
   ]
  },
  {
   "cell_type": "code",
   "execution_count": null,
   "id": "3c3a34b5-312e-4bb3-8dab-586de7b6bd9d",
   "metadata": {},
   "outputs": [],
   "source": []
  }
 ],
 "metadata": {
  "kernelspec": {
   "display_name": "Python 3 (ipykernel)",
   "language": "python",
   "name": "python3"
  },
  "language_info": {
   "codemirror_mode": {
    "name": "ipython",
    "version": 3
   },
   "file_extension": ".py",
   "mimetype": "text/x-python",
   "name": "python",
   "nbconvert_exporter": "python",
   "pygments_lexer": "ipython3",
   "version": "3.9.12"
  }
 },
 "nbformat": 4,
 "nbformat_minor": 5
}
