{
 "cells": [
  {
   "cell_type": "markdown",
   "id": "82727c53-872a-41df-89b6-2390db965f74",
   "metadata": {},
   "source": [
    "# 점프 투 파이썬 3장 제어문"
   ]
  },
  {
   "cell_type": "raw",
   "id": "05e66faf-6bcb-415b-8da4-c76757d3b6c6",
   "metadata": {},
   "source": [
    "a + 10 = 100\n",
    "a = 90"
   ]
  },
  {
   "cell_type": "markdown",
   "id": "53700aac-a705-456f-9382-8fbbe4531eab",
   "metadata": {},
   "source": [
    "## 1. 조건문 (if)"
   ]
  },
  {
   "cell_type": "markdown",
   "id": "0af5dc21-a4ef-4832-bc20-ef874eb9e056",
   "metadata": {},
   "source": [
    "-결과가 맞는지 틀린지 조건을 판단"
   ]
  },
  {
   "cell_type": "markdown",
   "id": "20a60364-df73-4e0e-893d-70338ca50fd9",
   "metadata": {},
   "source": [
    "1) 조건문의 구조 이해"
   ]
  },
  {
   "cell_type": "raw",
   "id": "c85f2507-aac3-4a94-8983-4a2015cfc606",
   "metadata": {},
   "source": [
    "조건파악에 쓰이는 수학식 부호들(비교연산자)"
   ]
  },
  {
   "cell_type": "markdown",
   "id": "b0597a88-f795-4d2e-82f0-f06d063729f1",
   "metadata": {},
   "source": [
    "2. 두 개 이상의 조건(and, or, not)"
   ]
  },
  {
   "cell_type": "raw",
   "id": "25a7782c-0e68-49d6-b03d-fc27277c0edf",
   "metadata": {},
   "source": [
    "데이터프레임에서와 연관"
   ]
  },
  {
   "cell_type": "markdown",
   "id": "32828813-afdb-4a7f-89d1-ddf2c2e9fbbe",
   "metadata": {},
   "source": [
    "3. 조건문 내에 조건문 (elif)"
   ]
  },
  {
   "cell_type": "raw",
   "id": "0817a039-2fe9-44ef-b31e-4102b3d79f70",
   "metadata": {},
   "source": [
    "else 뒤에는 조건문이 붙지 않음."
   ]
  },
  {
   "cell_type": "markdown",
   "id": "e0a723c9-8516-4f0b-a931-d58df4a810f1",
   "metadata": {},
   "source": [
    "## 2. 반복문 (while, for)"
   ]
  },
  {
   "cell_type": "markdown",
   "id": "569d8b8e-5785-4e75-8ae8-1b6844939e36",
   "metadata": {},
   "source": [
    "-조건이 만족하는 동안만 반복"
   ]
  },
  {
   "cell_type": "markdown",
   "id": "7b10a6c0-f9cf-4b94-9e10-54f45bf8473c",
   "metadata": {},
   "source": [
    "1. 반복문의 구조 이해 (while)"
   ]
  },
  {
   "cell_type": "markdown",
   "id": "33f0e6d1-3cdf-4c35-9366-ca7b1c954136",
   "metadata": {},
   "source": [
    "* pass, break, continue"
   ]
  },
  {
   "cell_type": "markdown",
   "id": "29e49fd4-26cd-4847-a917-7c547b3923a8",
   "metadata": {},
   "source": [
    "* 무한루프"
   ]
  },
  {
   "cell_type": "markdown",
   "id": "3a71475a-2e1d-4ad9-b616-6cdad24e6b95",
   "metadata": {},
   "source": [
    "2. 반복문에 조건 더하기 (for)"
   ]
  },
  {
   "cell_type": "raw",
   "id": "3449e60c-14c3-4b22-92f9-2cdd5858e341",
   "metadata": {},
   "source": [
    "for i in range (a, b, c) : [생략]\n",
    "\n",
    "1부터 100까지 합 구하기"
   ]
  },
  {
   "cell_type": "markdown",
   "id": "bd133951-df73-4141-a272-924d57d886ae",
   "metadata": {},
   "source": [
    "3. 조건을 포함한 for 구문의 이해 (if + for)"
   ]
  },
  {
   "cell_type": "raw",
   "id": "ec64439b-bae7-40b1-8eb9-5f525efee11e",
   "metadata": {},
   "source": [
    "basic 3에 gender 표시\n",
    "\n",
    "홀수 짝수의 합 구하기\n",
    "\n",
    "별 찍기"
   ]
  },
  {
   "cell_type": "markdown",
   "id": "3beefdb8-c016-4643-a33a-c7113d4a4efb",
   "metadata": {},
   "source": [
    "4. 반복문 속 반복문 (for+for)"
   ]
  },
  {
   "cell_type": "raw",
   "id": "88b28d34-5d9f-4177-afd7-7c94d81038d2",
   "metadata": {},
   "source": [
    "구구단"
   ]
  },
  {
   "cell_type": "code",
   "execution_count": null,
   "id": "06adcde1-f332-4b5a-ae01-01eadb52b102",
   "metadata": {},
   "outputs": [],
   "source": []
  }
 ],
 "metadata": {
  "kernelspec": {
   "display_name": "Python 3 (ipykernel)",
   "language": "python",
   "name": "python3"
  },
  "language_info": {
   "codemirror_mode": {
    "name": "ipython",
    "version": 3
   },
   "file_extension": ".py",
   "mimetype": "text/x-python",
   "name": "python",
   "nbconvert_exporter": "python",
   "pygments_lexer": "ipython3",
   "version": "3.9.12"
  }
 },
 "nbformat": 4,
 "nbformat_minor": 5
}
