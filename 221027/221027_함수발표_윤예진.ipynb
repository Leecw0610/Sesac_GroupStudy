{
 "cells": [
  {
   "cell_type": "markdown",
   "id": "26823bc8-e05e-45c7-9e5b-75fcb3e9b68d",
   "metadata": {},
   "source": [
    "# 함수(funtion)\n",
    "- 함수란 자주 사용하는 코드를 사용하기 쉽게 하나의 이름으로 묶은 것이다.\n",
    "- 변수가 어떤 값을 바인딩하는 것처럼 함수는 만들어진 어떤 코드를 바인딩한다.\n",
    "- 함수는 매개변수와 리턴이라는 개념이 있다."
   ]
  },
  {
   "cell_type": "markdown",
   "id": "7844a0ba-4c3a-41f0-905a-d9a719306bd7",
   "metadata": {},
   "source": [
    "<pre>\n",
    "<code>\n",
    "def 함수명 (매개변수(input)) :  \n",
    "    수행할 문장n\n",
    "    return 리턴값(output)\n",
    "</code>\n",
    "</pre>\n",
    "```\n",
    "- def : 함수를 만들 때 사용하는 예약어로 매개변수는 함수에 입력(input)함으로써 전달되는 값을 받는 변수를 말한다.\n",
    "- 매개변수(parameter) : 함수에 입력으로 전달된 값을 받는 변수 -> 함수의 정의부분에 전달되는값 \n",
    "- 인수(argumants) : 함수를 호출할때 전달받는 입력값\n",
    "- return : 함수의 결과값을 돌려주는 명령어\n",
    "```"
   ]
  },
  {
   "cell_type": "markdown",
   "id": "c0ce9501-4d8b-42ec-8197-ac8d07212f0b",
   "metadata": {},
   "source": [
    "## 1. 매개변수와 return의 유무"
   ]
  },
  {
   "cell_type": "code",
   "execution_count": 10,
   "id": "ef9a6a6a-0a86-4c74-9470-a0bdc41d6081",
   "metadata": {},
   "outputs": [],
   "source": [
    "def add(a, b) : \n",
    "    result = a + b\n",
    "    return result"
   ]
  },
  {
   "cell_type": "code",
   "execution_count": 13,
   "id": "23e958c3-5e71-4dfe-a75c-66e1a101d3b6",
   "metadata": {},
   "outputs": [
    {
     "name": "stdout",
     "output_type": "stream",
     "text": [
      "2\n"
     ]
    }
   ],
   "source": [
    "print(add(1, 1))"
   ]
  },
  {
   "cell_type": "code",
   "execution_count": 16,
   "id": "c92d5177-8323-4d48-ba6f-b119cfd251ca",
   "metadata": {},
   "outputs": [],
   "source": [
    "def Hamsu() : # 무조건 함수명 뒤에 ()빈괄호 넣어야함.\n",
    "    print('test 함수입니다.') #함수가 실행할 값을 넣는 줄로 return이 아닌 print가 들어가 출력문만 보여줌."
   ]
  },
  {
   "cell_type": "code",
   "execution_count": 6,
   "id": "6cacb065-4475-4e93-92be-305b2e369127",
   "metadata": {},
   "outputs": [
    {
     "name": "stdout",
     "output_type": "stream",
     "text": [
      "test 함수입니다.\n"
     ]
    }
   ],
   "source": [
    "Hamsu()"
   ]
  },
  {
   "cell_type": "code",
   "execution_count": 17,
   "id": "950fb2ef-db00-4dd2-9c55-714322915be1",
   "metadata": {},
   "outputs": [
    {
     "name": "stdout",
     "output_type": "stream",
     "text": [
      "test 함수입니다.\n",
      "None\n"
     ]
    }
   ],
   "source": [
    "print(Hamsu()) \n",
    "# return값 없이 출력만 되는 함수이기에 함수 출력되어 보여주고,\n",
    "# python은 내부적으로 함수 가장 마지막 라인에 return None이 있다고 간주해서 None이 출력 된 것."
   ]
  },
  {
   "cell_type": "markdown",
   "id": "0a44fbbb-8077-42d9-944c-953499f2588a",
   "metadata": {},
   "source": [
    "### return X"
   ]
  },
  {
   "cell_type": "code",
   "execution_count": 24,
   "id": "2814feda-ddac-4b83-844e-0a983dd414f4",
   "metadata": {},
   "outputs": [],
   "source": [
    "def max_user(l) :\n",
    "    max_n = l[0]  # 0번째 인덱스 값부터 시작해서 max_n에 넣음.\n",
    "    \n",
    "    for n in l : # 매개변수로 받은 list안의 인수에서부터 하나씩 n에 넣음.\n",
    "        if max_n < n : # max_n에 들어간 0번째 list안의 인수가 매개변수로 받은 0번째 list안의 인수와 비교해서 작을 경우 인수 l의 n이 더 크기 때문에\n",
    "            max_n = n  # max_n에 n을 넣어서 값을 더 큰 값으로 변경함.\n",
    "            \n",
    "    print(max_n) # 위의 list안의 인수가 다 돌아가고 마지막에 남은 제일 큰 값이 출력됨.(return이 아니라 내부 저장이 안되고 출력으로 보여주기만 함.)"
   ]
  },
  {
   "cell_type": "code",
   "execution_count": 25,
   "id": "023343d3-e35d-4c8d-8114-60ccbd1f371c",
   "metadata": {},
   "outputs": [
    {
     "name": "stdout",
     "output_type": "stream",
     "text": [
      "5\n"
     ]
    }
   ],
   "source": [
    "max_user([1,3,5,2,4]) # max_user에서 제일 큰 값"
   ]
  },
  {
   "cell_type": "code",
   "execution_count": 29,
   "id": "c63508ee-8cb7-4842-92af-c3a79d67a5f7",
   "metadata": {},
   "outputs": [
    {
     "name": "stdout",
     "output_type": "stream",
     "text": [
      "5\n"
     ]
    }
   ],
   "source": [
    "max_num = max_user([1,3,5,2,4]) # max_num이 출력이 되는 걸 보면 함수에 값이 들어가지 않았음. why? return으로 내부에 값을 저장하지 않았기 때문!"
   ]
  },
  {
   "cell_type": "code",
   "execution_count": 30,
   "id": "7c84d6bd-b0fa-4c8e-a985-47b2b2e4c946",
   "metadata": {},
   "outputs": [],
   "source": [
    "max_num # 값이 들어가지 않아서 max_num이 보이지 않음. return으로 값을 넣어줘야함."
   ]
  },
  {
   "cell_type": "code",
   "execution_count": 28,
   "id": "744dd29c-13a9-4c61-b8c4-270e8c90ec29",
   "metadata": {},
   "outputs": [
    {
     "name": "stdout",
     "output_type": "stream",
     "text": [
      "None\n"
     ]
    }
   ],
   "source": [
    "print(max_num) # 값이 없어서 print해서 봤을 때 마지막에 기본 값인 return None의 None이 출력됨을 확인할 수 있음."
   ]
  },
  {
   "cell_type": "markdown",
   "id": "19f84b0d-223b-4f00-a59d-2d671e8213b2",
   "metadata": {},
   "source": [
    "### return O"
   ]
  },
  {
   "cell_type": "code",
   "execution_count": 20,
   "id": "0f0254a6-b021-4b69-8281-5e6c1f03aecf",
   "metadata": {},
   "outputs": [],
   "source": [
    "def max_user2(l) :\n",
    "    max_n = l[0]\n",
    "    \n",
    "    for n in l :\n",
    "        if max_n < n :\n",
    "            max_n = n\n",
    "            \n",
    "    return max_n # return으로 마지막에 max_n에 남은 값이 그대로 저장됨."
   ]
  },
  {
   "cell_type": "code",
   "execution_count": 32,
   "id": "194f3c40-27a5-453e-9993-c6aa79c881e3",
   "metadata": {},
   "outputs": [
    {
     "data": {
      "text/plain": [
       "5"
      ]
     },
     "execution_count": 32,
     "metadata": {},
     "output_type": "execute_result"
    }
   ],
   "source": [
    "max_user2([1,3,5,2,4]) # max_user2에서 제일 큰 값"
   ]
  },
  {
   "cell_type": "code",
   "execution_count": 31,
   "id": "fd346a39-772c-4645-a22b-f5ff6b2f87e3",
   "metadata": {},
   "outputs": [],
   "source": [
    "max_num = max_user2([1,3,5,2,4]) \n",
    "# return으로 함수 max_user에는 내부 지역변수 max_n에 마지막으로 저장된 값이 max_user에 저장되어 있고,\n",
    "# 그 값을 그대로 다시 max_num에 넣었기 때문에 출력되지 않고 바로 max_num([1,3,5,2,4])으로 저장됨. 확인하려면 max_num을 출력해야함."
   ]
  },
  {
   "cell_type": "code",
   "execution_count": 34,
   "id": "d5aefbac-7a9c-421c-8de9-ff087b8a2d3d",
   "metadata": {},
   "outputs": [
    {
     "data": {
      "text/plain": [
       "5"
      ]
     },
     "execution_count": 34,
     "metadata": {},
     "output_type": "execute_result"
    }
   ],
   "source": [
    "max_num # return이 없을 때 와 다르게 값이 있어서 출력되어 보여짐."
   ]
  },
  {
   "cell_type": "markdown",
   "id": "083dce6c-5b95-4279-8f70-9a56bb4615a5",
   "metadata": {},
   "source": [
    "### 매개변수 X return X"
   ]
  },
  {
   "cell_type": "code",
   "execution_count": 35,
   "id": "4009f2a0-ef81-414e-a89c-3cc77602eaef",
   "metadata": {},
   "outputs": [],
   "source": [
    "def test() :\n",
    "    print('test') # test()함수를 쓰면 print라는 내장함수가 'test'라는 문자열을 바로 출력함."
   ]
  },
  {
   "cell_type": "code",
   "execution_count": 42,
   "id": "815d5109-1235-4d63-aed3-8f39453e3b69",
   "metadata": {},
   "outputs": [
    {
     "ename": "TypeError",
     "evalue": "test() takes 0 positional arguments but 1 was given",
     "output_type": "error",
     "traceback": [
      "\u001b[1;31m---------------------------------------------------------------------------\u001b[0m",
      "\u001b[1;31mTypeError\u001b[0m                                 Traceback (most recent call last)",
      "Input \u001b[1;32mIn [42]\u001b[0m, in \u001b[0;36m<cell line: 1>\u001b[1;34m()\u001b[0m\n\u001b[1;32m----> 1\u001b[0m \u001b[43mtest\u001b[49m\u001b[43m(\u001b[49m\u001b[38;5;241;43m1\u001b[39;49m\u001b[43m)\u001b[49m\n",
      "\u001b[1;31mTypeError\u001b[0m: test() takes 0 positional arguments but 1 was given"
     ]
    }
   ],
   "source": [
    "test(1) # 함수자체를 매개변수가 없이 만들었기 때문에 인수를 넣으면 error가 남."
   ]
  },
  {
   "cell_type": "code",
   "execution_count": 38,
   "id": "bdd01518-c979-4534-a503-974730f290b5",
   "metadata": {},
   "outputs": [
    {
     "name": "stdout",
     "output_type": "stream",
     "text": [
      "test\n",
      "None\n"
     ]
    }
   ],
   "source": [
    "print(test()) # test 함수는 return이 없이 print로 'test'를 바로 출력만 가능한 함수."
   ]
  },
  {
   "cell_type": "markdown",
   "id": "a06374ac-553c-494e-8b29-b0e1ee3f32f8",
   "metadata": {},
   "source": [
    "### 매개변수 O return X"
   ]
  },
  {
   "cell_type": "code",
   "execution_count": 40,
   "id": "5f6bdef8-67cb-49f5-823c-022ecb59c465",
   "metadata": {},
   "outputs": [],
   "source": [
    "def test2(a) :\n",
    "    print(a)"
   ]
  },
  {
   "cell_type": "code",
   "execution_count": 45,
   "id": "e49319c2-0a59-48d9-8a1d-8465a4170ccc",
   "metadata": {},
   "outputs": [
    {
     "ename": "TypeError",
     "evalue": "test2() missing 1 required positional argument: 'a'",
     "output_type": "error",
     "traceback": [
      "\u001b[1;31m---------------------------------------------------------------------------\u001b[0m",
      "\u001b[1;31mTypeError\u001b[0m                                 Traceback (most recent call last)",
      "Input \u001b[1;32mIn [45]\u001b[0m, in \u001b[0;36m<cell line: 1>\u001b[1;34m()\u001b[0m\n\u001b[1;32m----> 1\u001b[0m \u001b[43mtest2\u001b[49m\u001b[43m(\u001b[49m\u001b[43m)\u001b[49m\n",
      "\u001b[1;31mTypeError\u001b[0m: test2() missing 1 required positional argument: 'a'"
     ]
    }
   ],
   "source": [
    "test2() # 매개변수가 있는 함수인데 매개변수에 들어갈 인수를 넣어주지 않아서 error가 뜸."
   ]
  },
  {
   "cell_type": "code",
   "execution_count": 44,
   "id": "6eab23ef-1b91-418a-a5cf-d12a5ae949ee",
   "metadata": {},
   "outputs": [
    {
     "name": "stdout",
     "output_type": "stream",
     "text": [
      "2\n"
     ]
    }
   ],
   "source": [
    "test2(2) # 매개변수가 있기 때문에 인수로 들어온 숫자 2를 매개변수에 넣고 return값 없이 print(매개변수)이기에 매개변수=인수=2로 숫자 2가 출력됨."
   ]
  },
  {
   "cell_type": "code",
   "execution_count": 43,
   "id": "7d05df22-d349-4ceb-ad03-65ff6484fa11",
   "metadata": {},
   "outputs": [
    {
     "name": "stdout",
     "output_type": "stream",
     "text": [
      "2\n",
      "None\n"
     ]
    }
   ],
   "source": [
    "print(test2(2)) # 그러나 print로 출력 시에는 return 값이 없기 때문에 기본으로 들어가는 return None의 None 값은 그대로 출력됨."
   ]
  },
  {
   "cell_type": "markdown",
   "id": "5c05c926-136b-406e-85d0-339d0350aab8",
   "metadata": {},
   "source": [
    "### 매개변수 X return O"
   ]
  },
  {
   "cell_type": "code",
   "execution_count": 46,
   "id": "fa4620ac-70b3-49b5-b7df-d572fe71f653",
   "metadata": {},
   "outputs": [],
   "source": [
    "def test3() :\n",
    "    return 1+2"
   ]
  },
  {
   "cell_type": "code",
   "execution_count": 48,
   "id": "08c7bafe-83bd-4f8a-b107-bc8b77df36c4",
   "metadata": {},
   "outputs": [
    {
     "data": {
      "text/plain": [
       "3"
      ]
     },
     "execution_count": 48,
     "metadata": {},
     "output_type": "execute_result"
    }
   ],
   "source": [
    "test3() # 매개변수가 없는 함수이기에 매개변수를 넣지 않아도 함수 안에 return된 1+2의 값이 출력됨."
   ]
  },
  {
   "cell_type": "code",
   "execution_count": 51,
   "id": "f7e31271-18f9-44c6-b9b3-8407ed2f8c73",
   "metadata": {},
   "outputs": [
    {
     "ename": "TypeError",
     "evalue": "test3() takes 0 positional arguments but 1 was given",
     "output_type": "error",
     "traceback": [
      "\u001b[1;31m---------------------------------------------------------------------------\u001b[0m",
      "\u001b[1;31mTypeError\u001b[0m                                 Traceback (most recent call last)",
      "Input \u001b[1;32mIn [51]\u001b[0m, in \u001b[0;36m<cell line: 1>\u001b[1;34m()\u001b[0m\n\u001b[1;32m----> 1\u001b[0m \u001b[43mtest3\u001b[49m\u001b[43m(\u001b[49m\u001b[38;5;241;43m1\u001b[39;49m\u001b[43m)\u001b[49m\n",
      "\u001b[1;31mTypeError\u001b[0m: test3() takes 0 positional arguments but 1 was given"
     ]
    }
   ],
   "source": [
    "test3(1) # 매개변수가 없는 함수이기 때문에 매개변수를 넣으면 error가 뜸."
   ]
  },
  {
   "cell_type": "code",
   "execution_count": 50,
   "id": "4c72a5f9-d743-4794-af20-d3c10edcbe7b",
   "metadata": {},
   "outputs": [
    {
     "name": "stdout",
     "output_type": "stream",
     "text": [
      "3\n"
     ]
    }
   ],
   "source": [
    "print(test3()) # return 값이 있기 때문에 return 값이 출력됨."
   ]
  },
  {
   "cell_type": "markdown",
   "id": "db661f7f-4320-4d3c-a1f9-3b208bef47b7",
   "metadata": {},
   "source": [
    "### 매개변수 O return O"
   ]
  },
  {
   "cell_type": "code",
   "execution_count": 53,
   "id": "5adacce5-b4f1-4ec3-aa22-1c7d1c078c0a",
   "metadata": {},
   "outputs": [],
   "source": [
    "def test4(a, b) :\n",
    "    print('a:', a, 'b:',b)\n",
    "    return a+b"
   ]
  },
  {
   "cell_type": "code",
   "execution_count": 55,
   "id": "a1169384-39c3-4a90-b467-403068e8d803",
   "metadata": {},
   "outputs": [
    {
     "ename": "TypeError",
     "evalue": "test4() missing 2 required positional arguments: 'a' and 'b'",
     "output_type": "error",
     "traceback": [
      "\u001b[1;31m---------------------------------------------------------------------------\u001b[0m",
      "\u001b[1;31mTypeError\u001b[0m                                 Traceback (most recent call last)",
      "Input \u001b[1;32mIn [55]\u001b[0m, in \u001b[0;36m<cell line: 1>\u001b[1;34m()\u001b[0m\n\u001b[1;32m----> 1\u001b[0m \u001b[43mtest4\u001b[49m\u001b[43m(\u001b[49m\u001b[43m)\u001b[49m\n",
      "\u001b[1;31mTypeError\u001b[0m: test4() missing 2 required positional arguments: 'a' and 'b'"
     ]
    }
   ],
   "source": [
    "test4() # 매개변수가 있어서 인수를 받아야하는데 ()안에 인수를 넣지 않아서 error가 뜸."
   ]
  },
  {
   "cell_type": "code",
   "execution_count": 61,
   "id": "61e90c5f-6e23-4b07-9b03-0d0da6bf6a08",
   "metadata": {},
   "outputs": [
    {
     "name": "stdout",
     "output_type": "stream",
     "text": [
      "a: 2 b: 2\n"
     ]
    },
    {
     "data": {
      "text/plain": [
       "4"
      ]
     },
     "execution_count": 61,
     "metadata": {},
     "output_type": "execute_result"
    }
   ],
   "source": [
    "test4(2,2) # test4(a,b) 매개변수 a와 b에 2,2를 넣었고 그에 대한 print 출력과 return 값이 출력되어 보여짐. 내부에 저장된 상태는 아님."
   ]
  },
  {
   "cell_type": "code",
   "execution_count": 63,
   "id": "6c6dd5c3-384d-40c5-8eef-06a2f4f27b3d",
   "metadata": {},
   "outputs": [
    {
     "name": "stdout",
     "output_type": "stream",
     "text": [
      "a: 2 b: 3\n"
     ]
    }
   ],
   "source": [
    "test4_1 = test4(2,3) # test4(a,b) 매개변수 a와 b에 2,3을 넣었고 그에 대한 print 출력은 나왔으나, return값은 내부에 저장되었기에 출력되지 않음."
   ]
  },
  {
   "cell_type": "code",
   "execution_count": 65,
   "id": "05bab597-888e-4d42-a1c8-17f2cfb620c8",
   "metadata": {},
   "outputs": [
    {
     "name": "stdout",
     "output_type": "stream",
     "text": [
      "5\n"
     ]
    }
   ],
   "source": [
    "print(test4_1) # test4_1을 출력하면 위에서 내부에 저장된 return 값인 2+3 = '5'가 출력이 됨."
   ]
  },
  {
   "cell_type": "markdown",
   "id": "285d9d2d-c9fa-48ba-9759-c10abbfa7102",
   "metadata": {},
   "source": [
    "## 2. 디폴트 값 고정"
   ]
  },
  {
   "cell_type": "markdown",
   "id": "f97f4fa5-f9e6-4b99-9412-0b1c16b54c72",
   "metadata": {},
   "source": [
    "### default 매개변수 O return O"
   ]
  },
  {
   "cell_type": "code",
   "execution_count": 72,
   "id": "b6fcf883-1417-4481-9584-82c4b84441e7",
   "metadata": {},
   "outputs": [],
   "source": [
    "def test5(a , b=1) :\n",
    "    print('a:', a, 'b:',b)\n",
    "    return a+b"
   ]
  },
  {
   "cell_type": "code",
   "execution_count": 79,
   "id": "52d96e7c-4880-440e-b855-b1f131659934",
   "metadata": {},
   "outputs": [
    {
     "ename": "TypeError",
     "evalue": "test5() missing 1 required positional argument: 'a'",
     "output_type": "error",
     "traceback": [
      "\u001b[1;31m---------------------------------------------------------------------------\u001b[0m",
      "\u001b[1;31mTypeError\u001b[0m                                 Traceback (most recent call last)",
      "Input \u001b[1;32mIn [79]\u001b[0m, in \u001b[0;36m<cell line: 1>\u001b[1;34m()\u001b[0m\n\u001b[1;32m----> 1\u001b[0m \u001b[43mtest5\u001b[49m\u001b[43m(\u001b[49m\u001b[43m)\u001b[49m\n",
      "\u001b[1;31mTypeError\u001b[0m: test5() missing 1 required positional argument: 'a'"
     ]
    }
   ],
   "source": [
    "test5() # b는 디폴트 값이 1로 들어가 있지만 a는 없기 때문에 인수를 받아야 함. 그래서 error가 남."
   ]
  },
  {
   "cell_type": "code",
   "execution_count": 80,
   "id": "cea9a612-606e-4aaf-876b-3dc795c6dfed",
   "metadata": {},
   "outputs": [
    {
     "name": "stdout",
     "output_type": "stream",
     "text": [
      "a: 2 b: 1\n"
     ]
    },
    {
     "data": {
      "text/plain": [
       "3"
      ]
     },
     "execution_count": 80,
     "metadata": {},
     "output_type": "execute_result"
    }
   ],
   "source": [
    "test5(2) # a에 인수 2를 받아서 2+1 로 3이 출력됨. 내부에 저장은 안됨."
   ]
  },
  {
   "cell_type": "code",
   "execution_count": 82,
   "id": "a3f7faba-017b-4a8f-946c-7593f12e8fbe",
   "metadata": {},
   "outputs": [
    {
     "name": "stdout",
     "output_type": "stream",
     "text": [
      "a: 1 b: 3\n"
     ]
    },
    {
     "data": {
      "text/plain": [
       "4"
      ]
     },
     "execution_count": 82,
     "metadata": {},
     "output_type": "execute_result"
    }
   ],
   "source": [
    "test5(1,3) # b의 디폴트 값이 바뀔 수 있음. 내부에 저장은 안됨."
   ]
  },
  {
   "cell_type": "markdown",
   "id": "c6299642-d1a1-44cf-b0e8-9ce87f7b5579",
   "metadata": {},
   "source": [
    "### *args\n",
    "\n",
    "- args(argument) :  여러개의 인자를 한 번에 받음.\n",
    "- *args : 여러개의 인자를 한 번에 tuple(2개 이상의 인자 모음)로 받음."
   ]
  },
  {
   "cell_type": "code",
   "execution_count": 153,
   "id": "b386a453-d09c-4650-a9ac-2ec3c588b0a2",
   "metadata": {},
   "outputs": [],
   "source": [
    "def test6(*args) : # 몇 개가 들어올지 모르는 매개변수는 *args로 씀! 대신 tuple로 받기에 list로 묶으면 [1,2,3] 밖에 ([1,2,3])튜플로 묶여서 주의!\n",
    "    print(args)"
   ]
  },
  {
   "cell_type": "code",
   "execution_count": 160,
   "id": "ac95ce61-fe0c-4a6d-b1b6-59d83d7fe3c2",
   "metadata": {},
   "outputs": [
    {
     "name": "stdout",
     "output_type": "stream",
     "text": [
      "(1, 2, 4, 8, 16, 32, 64, 128)\n"
     ]
    }
   ],
   "source": [
    "test6(1,2,4,8,16,32,64,128) # 여러 가지 수를 넣을 수 있음."
   ]
  },
  {
   "cell_type": "code",
   "execution_count": 161,
   "id": "e5d57ee9-faa6-4e92-959b-36fb40f4c458",
   "metadata": {},
   "outputs": [],
   "source": [
    "def yejin(*args) :\n",
    "    ret = 0\n",
    "    for i in args :\n",
    "        ret += i\n",
    "        \n",
    "    return ret"
   ]
  },
  {
   "cell_type": "code",
   "execution_count": 166,
   "id": "d942708c-6aa0-4d7e-b807-7655001b9c18",
   "metadata": {},
   "outputs": [
    {
     "name": "stdout",
     "output_type": "stream",
     "text": [
      "<class 'int'>\n",
      "<class 'int'>\n"
     ]
    }
   ],
   "source": [
    "print(type(yejin(1))) # 1개 인자는 int로 받아들임.\n",
    "print(type(yejin(1,2))) # 인자가 2개 이상으로 tuple로 받아들였지만, 위에서 for문으로 튜플 속 int인자를 1개씩 빼내었기에 int 타입으로 변환됨."
   ]
  },
  {
   "cell_type": "code",
   "execution_count": 171,
   "id": "a6f3d4ca-4b2f-4b24-ac48-4f1330c7d03b",
   "metadata": {},
   "outputs": [
    {
     "name": "stdout",
     "output_type": "stream",
     "text": [
      "(1, 2, 3, 4)\n",
      "<class 'tuple'>\n"
     ]
    }
   ],
   "source": [
    "a=(1,2,3,4)\n",
    "print(a) # 출력된 모습이 () 대괄호 안에 들어가 tuple형식으로 출력됨.\n",
    "print(type(a)) # type도 tuple인 것을 확인할 수 있음."
   ]
  },
  {
   "cell_type": "code",
   "execution_count": 172,
   "id": "422348b9-fac6-4cbf-90d6-83e7e52cb200",
   "metadata": {},
   "outputs": [],
   "source": [
    "def yejin2(a) :\n",
    "    ret = 0\n",
    "    for i in a :\n",
    "        ret += i\n",
    "        \n",
    "    return ret"
   ]
  },
  {
   "cell_type": "code",
   "execution_count": 176,
   "id": "032b43fa-795a-48cc-83cb-a681b765cd3a",
   "metadata": {},
   "outputs": [],
   "source": [
    "이진수 = (1,2,4,8,16,32,64,128)"
   ]
  },
  {
   "cell_type": "code",
   "execution_count": 183,
   "id": "d68f95fa-60e3-413e-8b62-8c02284ce53b",
   "metadata": {},
   "outputs": [
    {
     "data": {
      "text/plain": [
       "255"
      ]
     },
     "execution_count": 183,
     "metadata": {},
     "output_type": "execute_result"
    }
   ],
   "source": [
    "yejin2(이진수)"
   ]
  },
  {
   "cell_type": "code",
   "execution_count": 185,
   "id": "a5990340-fad2-429f-a91c-1250c0140e2a",
   "metadata": {},
   "outputs": [
    {
     "ename": "TypeError",
     "evalue": "yejin2() takes 1 positional argument but 2 were given",
     "output_type": "error",
     "traceback": [
      "\u001b[1;31m---------------------------------------------------------------------------\u001b[0m",
      "\u001b[1;31mTypeError\u001b[0m                                 Traceback (most recent call last)",
      "Input \u001b[1;32mIn [185]\u001b[0m, in \u001b[0;36m<cell line: 1>\u001b[1;34m()\u001b[0m\n\u001b[1;32m----> 1\u001b[0m \u001b[43myejin2\u001b[49m\u001b[43m(\u001b[49m\u001b[43m이진수\u001b[49m\u001b[43m,\u001b[49m\u001b[38;5;241;43m1\u001b[39;49m\u001b[43m)\u001b[49m\n",
      "\u001b[1;31mTypeError\u001b[0m: yejin2() takes 1 positional argument but 2 were given"
     ]
    }
   ],
   "source": [
    "yejin2(이진수,1) # 매개변수 a 한 개만 들어가 있는데 이진수, 1 로 두 개의 매개변수를 넣어서 error 뜸."
   ]
  },
  {
   "cell_type": "code",
   "execution_count": 180,
   "id": "b12ab281-f57c-4506-9ffc-0678b54b9402",
   "metadata": {},
   "outputs": [],
   "source": [
    "이진수_li = [1,2,4,8,16,32,64,128]"
   ]
  },
  {
   "cell_type": "code",
   "execution_count": 181,
   "id": "5f4c2296-ae7e-4eef-9586-5a15129516b3",
   "metadata": {},
   "outputs": [
    {
     "data": {
      "text/plain": [
       "255"
      ]
     },
     "execution_count": 181,
     "metadata": {},
     "output_type": "execute_result"
    }
   ],
   "source": [
    "yejin2(이진수_li)"
   ]
  },
  {
   "cell_type": "code",
   "execution_count": 197,
   "id": "15f1b671-58eb-41c6-8b7c-6c8adc64aaf4",
   "metadata": {},
   "outputs": [
    {
     "ename": "TypeError",
     "evalue": "unsupported operand type(s) for +=: 'int' and 'list'",
     "output_type": "error",
     "traceback": [
      "\u001b[1;31m---------------------------------------------------------------------------\u001b[0m",
      "\u001b[1;31mTypeError\u001b[0m                                 Traceback (most recent call last)",
      "Input \u001b[1;32mIn [197]\u001b[0m, in \u001b[0;36m<cell line: 1>\u001b[1;34m()\u001b[0m\n\u001b[1;32m----> 1\u001b[0m \u001b[43myejin\u001b[49m\u001b[43m(\u001b[49m\u001b[43m이진수_li\u001b[49m\u001b[43m)\u001b[49m\n",
      "Input \u001b[1;32mIn [161]\u001b[0m, in \u001b[0;36myejin\u001b[1;34m(*args)\u001b[0m\n\u001b[0;32m      2\u001b[0m ret \u001b[38;5;241m=\u001b[39m \u001b[38;5;241m0\u001b[39m\n\u001b[0;32m      3\u001b[0m \u001b[38;5;28;01mfor\u001b[39;00m i \u001b[38;5;129;01min\u001b[39;00m args :\n\u001b[1;32m----> 4\u001b[0m     ret \u001b[38;5;241m+\u001b[39m\u001b[38;5;241m=\u001b[39m i\n\u001b[0;32m      6\u001b[0m \u001b[38;5;28;01mreturn\u001b[39;00m ret\n",
      "\u001b[1;31mTypeError\u001b[0m: unsupported operand type(s) for +=: 'int' and 'list'"
     ]
    }
   ],
   "source": [
    "yejin(이진수_li) \n",
    "# 이진수_li가 [1,2,4,8,16,32,64,128]인 리스트 밖에 tuple로 묶여서 ([1,2,4,8,16,32,64,128])인 상태가 되었고,\n",
    "# for i in ([1,2,4,8,16,32,64,128]) : 인 상태에서 list 밖의 tuple인 대괄호()만 벗겨져서 리스트 안의 인자가 하나씩 i에 들어가지 못하고 list가 통으로\n",
    "#     ret += [1,2,4,8,16,32,64,128]   <-처럼 들어가게 되기 때문에  += 연산자가 리스트를 연산할 수 없어 error가 뜸."
   ]
  },
  {
   "cell_type": "markdown",
   "id": "0b9513f0-eca5-481d-af86-fedf9ab83dc9",
   "metadata": {},
   "source": [
    "### **kwargs\n",
    "- kwargs(keyword argument) : 딕셔너리 형태로 여러개의 값이 들어올 수 있는 걸 처리하는 매개변수"
   ]
  },
  {
   "cell_type": "code",
   "execution_count": 244,
   "id": "ae3eb7bf-5810-4aad-bf77-2b9bc0912cc7",
   "metadata": {},
   "outputs": [],
   "source": [
    "def print_kwargs(**kwargs) : # 매개변수에 **kwargs를 사용함으로 딕셔너리 형태의 인자를 받을 수 있게 됨.\n",
    "    print(kwargs)            # 들어온 매개변수를 출력해서 딕셔너리 형태로 볼 수 있도록 넣음.\n",
    "    for key, value in kwargs.items():\n",
    "        print(key, value, end=' ')"
   ]
  },
  {
   "cell_type": "code",
   "execution_count": 245,
   "id": "12f9d011-db16-4adc-9b26-f4ff92bf13f3",
   "metadata": {},
   "outputs": [
    {
     "name": "stdout",
     "output_type": "stream",
     "text": [
      "{'a': 1, 'b': 2}\n",
      "a 1 b 2 "
     ]
    }
   ],
   "source": [
    "print_kwargs(a=1, b=2)"
   ]
  },
  {
   "cell_type": "code",
   "execution_count": 246,
   "id": "038ddb11-6b7e-4270-aad2-cd0ae1cbba62",
   "metadata": {},
   "outputs": [
    {
     "name": "stdout",
     "output_type": "stream",
     "text": [
      "{'foo': 'a', 'bar': 'b', 'c': ['a', 'b', 'a']}\n",
      "foo a bar b c ['a', 'b', 'a'] "
     ]
    }
   ],
   "source": [
    "print_kwargs(foo='a', bar='b', c=[\"a\",\"b\",\"a\"]) # 딕셔너리 Key에는 list 불가능. Values에는 list 넣을 수 있음!"
   ]
  },
  {
   "cell_type": "markdown",
   "id": "fae4d7b5-f15e-4c19-b255-334ef8fa1f55",
   "metadata": {},
   "source": [
    "### 전역변수 지역변수"
   ]
  },
  {
   "cell_type": "code",
   "execution_count": 221,
   "id": "4c339fc6-17cd-447d-a8cd-1bf54475bb0b",
   "metadata": {},
   "outputs": [],
   "source": [
    "a = 1\n",
    "\n",
    "def test(a) :\n",
    "    scope_var = a + 1\n",
    "    return(scope_var)"
   ]
  },
  {
   "cell_type": "code",
   "execution_count": 222,
   "id": "6660442d-0833-4fc5-ad5a-658a5c9d07df",
   "metadata": {},
   "outputs": [
    {
     "name": "stdout",
     "output_type": "stream",
     "text": [
      "2\n"
     ]
    }
   ],
   "source": [
    "print(test(a))"
   ]
  },
  {
   "cell_type": "code",
   "execution_count": 223,
   "id": "3f885265-3294-4c08-9e34-cf1a4ad95c65",
   "metadata": {},
   "outputs": [
    {
     "ename": "NameError",
     "evalue": "name 'scope_var' is not defined",
     "output_type": "error",
     "traceback": [
      "\u001b[1;31m---------------------------------------------------------------------------\u001b[0m",
      "\u001b[1;31mNameError\u001b[0m                                 Traceback (most recent call last)",
      "Input \u001b[1;32mIn [223]\u001b[0m, in \u001b[0;36m<cell line: 1>\u001b[1;34m()\u001b[0m\n\u001b[1;32m----> 1\u001b[0m \u001b[43mscope_var\u001b[49m\n",
      "\u001b[1;31mNameError\u001b[0m: name 'scope_var' is not defined"
     ]
    }
   ],
   "source": [
    "scope_var #함수 test 안에서만 쓸 수 있는 지역변수로 선언되어 밖에서 따로 사용 불가"
   ]
  },
  {
   "cell_type": "code",
   "execution_count": 227,
   "id": "84555106-b8cd-4311-a8b9-0c674c9da2a6",
   "metadata": {},
   "outputs": [],
   "source": [
    "def test2(a) : #위와 매개변수 명이 같지만 함수가 달라서 충돌 안남.\n",
    "    a += 2\n",
    "    return(a)"
   ]
  },
  {
   "cell_type": "code",
   "execution_count": 225,
   "id": "01c9d95a-f220-447c-8e4f-38a33b09c1ef",
   "metadata": {},
   "outputs": [
    {
     "data": {
      "text/plain": [
       "3"
      ]
     },
     "execution_count": 225,
     "metadata": {},
     "output_type": "execute_result"
    }
   ],
   "source": [
    "a = 1  \n",
    "test2(1)"
   ]
  },
  {
   "cell_type": "code",
   "execution_count": 237,
   "id": "3c4f9ea9-87c1-4055-9330-dc949ce681bb",
   "metadata": {},
   "outputs": [],
   "source": [
    "def test3() :\n",
    "    global a # test3이라는 함수에 종속되지 않는 변수가 됨. \"global 변수명\"은 지역변수가 아니라 다른 곳에서도 다 통용가능한 전역변수로 바꿈!\n",
    "    a += 1\n",
    "    return(a)"
   ]
  },
  {
   "cell_type": "code",
   "execution_count": 204,
   "id": "33669f39-1345-4459-9fc5-22fccb6c554a",
   "metadata": {},
   "outputs": [],
   "source": [
    "a = 3"
   ]
  },
  {
   "cell_type": "code",
   "execution_count": 205,
   "id": "23e1c4e4-a6cf-4df5-8865-aa8af93f2d49",
   "metadata": {},
   "outputs": [
    {
     "data": {
      "text/plain": [
       "4"
      ]
     },
     "execution_count": 205,
     "metadata": {},
     "output_type": "execute_result"
    }
   ],
   "source": [
    "test3()"
   ]
  },
  {
   "cell_type": "markdown",
   "id": "74fae0d0-3d28-4a7c-8323-bb6e74eb6dbf",
   "metadata": {},
   "source": [
    "### 여러개의 return 값 사용"
   ]
  },
  {
   "cell_type": "code",
   "execution_count": 232,
   "id": "1c8e3ae6-f048-4fa4-b7a5-b3bb7abd2011",
   "metadata": {},
   "outputs": [],
   "source": [
    "def test(a,b,c) :\n",
    "    return a+b, a+c\n",
    "#리턴을 여러개 하는 건 파이썬에서만 가능함! 다만 한 줄로 옆에 이렇게 값, 값... 해야지 줄바꾸고 다시 리턴 추가 불가능. 먼저나온 return에서 끝남!"
   ]
  },
  {
   "cell_type": "code",
   "execution_count": 233,
   "id": "a7259494-440f-497c-9f3d-c05ab91bdd97",
   "metadata": {},
   "outputs": [
    {
     "data": {
      "text/plain": [
       "(3, 4)"
      ]
     },
     "execution_count": 233,
     "metadata": {},
     "output_type": "execute_result"
    }
   ],
   "source": [
    "test(1, 2, 3)"
   ]
  },
  {
   "cell_type": "code",
   "execution_count": 234,
   "id": "ca2ad7f0-f67f-462c-bf76-e42ba8dad467",
   "metadata": {},
   "outputs": [],
   "source": [
    "ret1, ret2 = test(1, 2, 3) #함수 여러개가 변수를 같이 받을 수 있음."
   ]
  },
  {
   "cell_type": "code",
   "execution_count": 235,
   "id": "22bd52a6-684c-47a0-a178-e14fa6c4a75e",
   "metadata": {},
   "outputs": [
    {
     "data": {
      "text/plain": [
       "3"
      ]
     },
     "execution_count": 235,
     "metadata": {},
     "output_type": "execute_result"
    }
   ],
   "source": [
    "ret1"
   ]
  },
  {
   "cell_type": "code",
   "execution_count": 236,
   "id": "f0558638-0489-4aae-a75b-e6186bfd4d15",
   "metadata": {},
   "outputs": [
    {
     "data": {
      "text/plain": [
       "4"
      ]
     },
     "execution_count": 236,
     "metadata": {},
     "output_type": "execute_result"
    }
   ],
   "source": [
    "ret2"
   ]
  }
 ],
 "metadata": {
  "kernelspec": {
   "display_name": "Python 3 (ipykernel)",
   "language": "python",
   "name": "python3"
  },
  "language_info": {
   "codemirror_mode": {
    "name": "ipython",
    "version": 3
   },
   "file_extension": ".py",
   "mimetype": "text/x-python",
   "name": "python",
   "nbconvert_exporter": "python",
   "pygments_lexer": "ipython3",
   "version": "3.9.13"
  }
 },
 "nbformat": 4,
 "nbformat_minor": 5
}
